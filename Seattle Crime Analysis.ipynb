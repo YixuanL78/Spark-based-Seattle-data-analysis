{
 "cells": [
  {
   "cell_type": "code",
   "execution_count": 0,
   "metadata": {
    "application/vnd.databricks.v1+cell": {
     "cellMetadata": {
      "byteLimit": 2048000,
      "rowLimit": 10000
     },
     "inputWidgets": {},
     "nuid": "311184c3-bc13-4604-a4b7-66b872f967e8",
     "showTitle": false,
     "tableResultSettingsMap": {},
     "title": ""
    }
   },
   "outputs": [
    {
     "output_type": "display_data",
     "data": {
      "application/vnd.databricks.v1+bamboolib_hint": "{\"pd.DataFrames\": [], \"version\": \"0.0.1\"}",
      "text/plain": []
     },
     "metadata": {},
     "output_type": "display_data"
    }
   ],
   "source": [
    "from csv import reader\n",
    "from pyspark.sql import Row \n",
    "from pyspark.sql import SparkSession\n",
    "from pyspark.sql.types import *\n",
    "import pandas as pd\n",
    "import numpy as np\n",
    "import seaborn as sb\n",
    "import matplotlib.pyplot as plt\n",
    "import warnings\n",
    "\n",
    "import os\n",
    "os.environ[\"PYSPARK_PYTHON\"] = \"python3\""
   ]
  },
  {
   "cell_type": "code",
   "execution_count": 0,
   "metadata": {
    "application/vnd.databricks.v1+cell": {
     "cellMetadata": {
      "byteLimit": 2048000,
      "rowLimit": 10000
     },
     "inputWidgets": {},
     "nuid": "4db2014d-62fe-4710-a8e6-ca50bdf150ed",
     "showTitle": false,
     "tableResultSettingsMap": {},
     "title": ""
    }
   },
   "outputs": [
    {
     "output_type": "display_data",
     "data": {
      "text/html": [
       "<style scoped>\n",
       "  .table-result-container {\n",
       "    max-height: 300px;\n",
       "    overflow: auto;\n",
       "  }\n",
       "  table, th, td {\n",
       "    border: 1px solid black;\n",
       "    border-collapse: collapse;\n",
       "  }\n",
       "  th, td {\n",
       "    padding: 5px;\n",
       "  }\n",
       "  th {\n",
       "    text-align: left;\n",
       "  }\n",
       "</style><div class='table-result-container'><table class='table-result'><thead style='background-color: white'><tr><th>path</th><th>name</th><th>size</th><th>modificationTime</th></tr></thead><tbody><tr><td>dbfs:/seattle_crime_analysis/data/sea_crime.csv</td><td>sea_crime.csv</td><td>295137527</td><td>1740171119000</td></tr></tbody></table></div>"
      ]
     },
     "metadata": {
      "application/vnd.databricks.v1+output": {
       "addedWidgets": {},
       "aggData": [],
       "aggError": "",
       "aggOverflow": false,
       "aggSchema": [],
       "aggSeriesLimitReached": false,
       "aggType": "",
       "arguments": {},
       "columnCustomDisplayInfos": {},
       "data": [
        [
         "dbfs:/seattle_crime_analysis/data/sea_crime.csv",
         "sea_crime.csv",
         295137527,
         1740171119000
        ]
       ],
       "datasetInfos": [],
       "dbfsResultPath": null,
       "isJsonSchema": true,
       "metadata": {},
       "overflow": false,
       "plotOptions": {
        "customPlotOptions": {},
        "displayType": "table",
        "pivotAggregation": null,
        "pivotColumns": null,
        "xColumns": null,
        "yColumns": null
       },
       "removedWidgets": [],
       "schema": [
        {
         "metadata": "{}",
         "name": "path",
         "type": "\"string\""
        },
        {
         "metadata": "{}",
         "name": "name",
         "type": "\"string\""
        },
        {
         "metadata": "{}",
         "name": "size",
         "type": "\"long\""
        },
        {
         "metadata": "{}",
         "name": "modificationTime",
         "type": "\"long\""
        }
       ],
       "type": "table"
      }
     },
     "output_type": "display_data"
    }
   ],
   "source": [
    "import urllib.request\n",
    "urllib.request.urlretrieve(\"https://data.seattle.gov/resource/tazs-3rd5.csv?$limit=1200000\", \"/tmp/my.csv\")\n",
    "dbutils.fs.mv(\"file:/tmp/my.csv\", \"dbfs:/seattle_crime_analysis/data/sea_crime.csv\")\n",
    "display(dbutils.fs.ls(\"dbfs:/seattle_crime_analysis/data/\"))"
   ]
  },
  {
   "cell_type": "code",
   "execution_count": 0,
   "metadata": {
    "application/vnd.databricks.v1+cell": {
     "cellMetadata": {
      "byteLimit": 2048000,
      "rowLimit": 10000
     },
     "inputWidgets": {},
     "nuid": "24f94e81-4ad7-47df-8519-b72d1b6ccb58",
     "showTitle": false,
     "tableResultSettingsMap": {},
     "title": ""
    }
   },
   "outputs": [],
   "source": [
    "data_path = \"dbfs:/seattle_crime_analysis/data/sea_crime.csv\""
   ]
  },
  {
   "cell_type": "code",
   "execution_count": 0,
   "metadata": {
    "application/vnd.databricks.v1+cell": {
     "cellMetadata": {
      "byteLimit": 2048000,
      "rowLimit": 10000
     },
     "inputWidgets": {},
     "nuid": "a194a246-e804-4aec-a6a7-0ac7e162a28f",
     "showTitle": false,
     "tableResultSettingsMap": {
      "0": {
       "filterBlob": "{\"filterGroups\":[],\"syncTimestamp\":1740149519059}",
       "tableResultIndex": 0
      }
     },
     "title": ""
    }
   },
   "outputs": [
    {
     "output_type": "display_data",
     "data": {
      "text/html": [
       "<style scoped>\n",
       "  .table-result-container {\n",
       "    max-height: 300px;\n",
       "    overflow: auto;\n",
       "  }\n",
       "  table, th, td {\n",
       "    border: 1px solid black;\n",
       "    border-collapse: collapse;\n",
       "  }\n",
       "  th, td {\n",
       "    padding: 5px;\n",
       "  }\n",
       "  th {\n",
       "    text-align: left;\n",
       "  }\n",
       "</style><div class='table-result-container'><table class='table-result'><thead style='background-color: white'><tr><th>report_number</th><th>offense_id</th><th>offense_start_datetime</th><th>offense_end_datetime</th><th>report_datetime</th><th>group_a_b</th><th>crime_against_category</th><th>offense_parent_group</th><th>offense</th><th>offense_code</th><th>precinct</th><th>sector</th><th>beat</th><th>mcpp</th><th>_100_block_address</th><th>longitude</th><th>latitude</th></tr></thead><tbody><tr><td>2020-044452</td><td>12605598696</td><td>2020-02-03T08:00:00.000</td><td>2020-02-04T08:00:00.000</td><td>2020-02-05T10:06:28.000</td><td>A</td><td>PROPERTY</td><td>LARCENY-THEFT</td><td>Theft of Motor Vehicle Parts or Accessories</td><td>23G</td><td>N</td><td>J</td><td>J3</td><td>ROOSEVELT/RAVENNA</td><td>63XX BLOCK OF 5TH AVE NE</td><td>-122.323399063</td><td>47.675117890</td></tr><tr><td>2020-044465</td><td>12605567653</td><td>2020-02-02T20:30:00.000</td><td>2020-02-02T21:30:00.000</td><td>2020-02-05T09:39:33.000</td><td>A</td><td>PROPERTY</td><td>ROBBERY</td><td>Robbery</td><td>120</td><td>N</td><td>U</td><td>U3</td><td>ROOSEVELT/RAVENNA</td><td>26TH AVE NE / NE BLAKELEY ST</td><td>-122.299552180</td><td>47.666384070</td></tr><tr><td>2020-044225</td><td>12605174036</td><td>2020-02-05T01:17:00.000</td><td>2020-02-05T02:21:00.000</td><td>2020-02-05T03:30:55.000</td><td>A</td><td>PROPERTY</td><td>DESTRUCTION/DAMAGE/VANDALISM OF PROPERTY</td><td>Destruction/Damage/Vandalism of Property</td><td>290</td><td>W</td><td>Q</td><td>Q1</td><td>MAGNOLIA</td><td>22XX BLOCK OF W RAYE ST</td><td>-122.384864805</td><td>47.642927340</td></tr><tr><td>2020-044076</td><td>12605081469</td><td>2020-02-05T00:51:21.000</td><td>null</td><td>2020-02-05T00:51:31.000</td><td>B</td><td>SOCIETY</td><td>DRIVING UNDER THE INFLUENCE</td><td>Driving Under the Influence</td><td>90D</td><td>N</td><td>B</td><td>B2</td><td>BALLARD SOUTH</td><td>NW 46TH ST / 8TH AVE NW</td><td>-122.366195342</td><td>47.662193080</td></tr><tr><td>2020-044142</td><td>12605077150</td><td>2020-02-04T22:59:00.000</td><td>null</td><td>2020-02-05T00:45:08.000</td><td>A</td><td>PROPERTY</td><td>LARCENY-THEFT</td><td>Shoplifting</td><td>23C</td><td>W</td><td>M</td><td>M1</td><td>DOWNTOWN COMMERCIAL</td><td>14XX BLOCK OF 2ND AVE</td><td>-122.338449515</td><td>47.608788660</td></tr><tr><td>2020-044104</td><td>12605029468</td><td>2020-02-04T20:30:00.000</td><td>2020-02-04T20:45:00.000</td><td>2020-02-04T23:31:52.000</td><td>A</td><td>PROPERTY</td><td>DESTRUCTION/DAMAGE/VANDALISM OF PROPERTY</td><td>Destruction/Damage/Vandalism of Property</td><td>290</td><td>N</td><td>J</td><td>J3</td><td>PHINNEY RIDGE</td><td>71XX BLOCK OF GREENWOOD AVE N</td><td>-122.355309065</td><td>47.680526950</td></tr><tr><td>2020-043988</td><td>12604995759</td><td>2020-02-04T19:58:00.000</td><td>null</td><td>2020-02-04T22:46:19.000</td><td>A</td><td>PROPERTY</td><td>LARCENY-THEFT</td><td>Shoplifting</td><td>23C</td><td>SW</td><td>F</td><td>F2</td><td>ROXHILL/WESTWOOD/ARBOR HEIGHTS</td><td>26XX BLOCK OF SW BARTON ST</td><td>-122.367311993</td><td>47.521027580</td></tr><tr><td>2020-043928</td><td>12604963106</td><td>2020-02-04T19:01:00.000</td><td>null</td><td>2020-02-04T21:59:07.000</td><td>B</td><td>SOCIETY</td><td>DRIVING UNDER THE INFLUENCE</td><td>Driving Under the Influence</td><td>90D</td><td>N</td><td>L</td><td>L2</td><td>NORTHGATE</td><td>15TH AVE NE / NE 95TH ST</td><td>-122.312077769</td><td>47.697616170</td></tr><tr><td>2020-044065</td><td>12605008517</td><td>2020-02-04T21:00:00.000</td><td>2020-02-04T21:15:00.000</td><td>2020-02-04T21:47:32.000</td><td>A</td><td>PROPERTY</td><td>LARCENY-THEFT</td><td>Theft From Motor Vehicle</td><td>23F</td><td>E</td><td>E</td><td>E2</td><td>CAPITOL HILL</td><td>15XX BLOCK OF 12TH AVE</td><td>-122.316845012</td><td>47.614683850</td></tr><tr><td>2020-044038</td><td>12604928711</td><td>2020-02-04T20:57:00.000</td><td>null</td><td>2020-02-04T21:20:35.000</td><td>A</td><td>PROPERTY</td><td>LARCENY-THEFT</td><td>Shoplifting</td><td>23C</td><td>E</td><td>E</td><td>E2</td><td>CAPITOL HILL</td><td>15XX BLOCK OF BROADWAY</td><td>-122.320789514</td><td>47.614655490</td></tr></tbody></table></div>"
      ]
     },
     "metadata": {
      "application/vnd.databricks.v1+output": {
       "addedWidgets": {},
       "aggData": [],
       "aggError": "",
       "aggOverflow": false,
       "aggSchema": [],
       "aggSeriesLimitReached": false,
       "aggType": "",
       "arguments": {},
       "columnCustomDisplayInfos": {},
       "data": [
        [
         "2020-044452",
         "12605598696",
         "2020-02-03T08:00:00.000",
         "2020-02-04T08:00:00.000",
         "2020-02-05T10:06:28.000",
         "A",
         "PROPERTY",
         "LARCENY-THEFT",
         "Theft of Motor Vehicle Parts or Accessories",
         "23G",
         "N",
         "J",
         "J3",
         "ROOSEVELT/RAVENNA",
         "63XX BLOCK OF 5TH AVE NE",
         "-122.323399063",
         "47.675117890"
        ],
        [
         "2020-044465",
         "12605567653",
         "2020-02-02T20:30:00.000",
         "2020-02-02T21:30:00.000",
         "2020-02-05T09:39:33.000",
         "A",
         "PROPERTY",
         "ROBBERY",
         "Robbery",
         "120",
         "N",
         "U",
         "U3",
         "ROOSEVELT/RAVENNA",
         "26TH AVE NE / NE BLAKELEY ST",
         "-122.299552180",
         "47.666384070"
        ],
        [
         "2020-044225",
         "12605174036",
         "2020-02-05T01:17:00.000",
         "2020-02-05T02:21:00.000",
         "2020-02-05T03:30:55.000",
         "A",
         "PROPERTY",
         "DESTRUCTION/DAMAGE/VANDALISM OF PROPERTY",
         "Destruction/Damage/Vandalism of Property",
         "290",
         "W",
         "Q",
         "Q1",
         "MAGNOLIA",
         "22XX BLOCK OF W RAYE ST",
         "-122.384864805",
         "47.642927340"
        ],
        [
         "2020-044076",
         "12605081469",
         "2020-02-05T00:51:21.000",
         null,
         "2020-02-05T00:51:31.000",
         "B",
         "SOCIETY",
         "DRIVING UNDER THE INFLUENCE",
         "Driving Under the Influence",
         "90D",
         "N",
         "B",
         "B2",
         "BALLARD SOUTH",
         "NW 46TH ST / 8TH AVE NW",
         "-122.366195342",
         "47.662193080"
        ],
        [
         "2020-044142",
         "12605077150",
         "2020-02-04T22:59:00.000",
         null,
         "2020-02-05T00:45:08.000",
         "A",
         "PROPERTY",
         "LARCENY-THEFT",
         "Shoplifting",
         "23C",
         "W",
         "M",
         "M1",
         "DOWNTOWN COMMERCIAL",
         "14XX BLOCK OF 2ND AVE",
         "-122.338449515",
         "47.608788660"
        ],
        [
         "2020-044104",
         "12605029468",
         "2020-02-04T20:30:00.000",
         "2020-02-04T20:45:00.000",
         "2020-02-04T23:31:52.000",
         "A",
         "PROPERTY",
         "DESTRUCTION/DAMAGE/VANDALISM OF PROPERTY",
         "Destruction/Damage/Vandalism of Property",
         "290",
         "N",
         "J",
         "J3",
         "PHINNEY RIDGE",
         "71XX BLOCK OF GREENWOOD AVE N",
         "-122.355309065",
         "47.680526950"
        ],
        [
         "2020-043988",
         "12604995759",
         "2020-02-04T19:58:00.000",
         null,
         "2020-02-04T22:46:19.000",
         "A",
         "PROPERTY",
         "LARCENY-THEFT",
         "Shoplifting",
         "23C",
         "SW",
         "F",
         "F2",
         "ROXHILL/WESTWOOD/ARBOR HEIGHTS",
         "26XX BLOCK OF SW BARTON ST",
         "-122.367311993",
         "47.521027580"
        ],
        [
         "2020-043928",
         "12604963106",
         "2020-02-04T19:01:00.000",
         null,
         "2020-02-04T21:59:07.000",
         "B",
         "SOCIETY",
         "DRIVING UNDER THE INFLUENCE",
         "Driving Under the Influence",
         "90D",
         "N",
         "L",
         "L2",
         "NORTHGATE",
         "15TH AVE NE / NE 95TH ST",
         "-122.312077769",
         "47.697616170"
        ],
        [
         "2020-044065",
         "12605008517",
         "2020-02-04T21:00:00.000",
         "2020-02-04T21:15:00.000",
         "2020-02-04T21:47:32.000",
         "A",
         "PROPERTY",
         "LARCENY-THEFT",
         "Theft From Motor Vehicle",
         "23F",
         "E",
         "E",
         "E2",
         "CAPITOL HILL",
         "15XX BLOCK OF 12TH AVE",
         "-122.316845012",
         "47.614683850"
        ],
        [
         "2020-044038",
         "12604928711",
         "2020-02-04T20:57:00.000",
         null,
         "2020-02-04T21:20:35.000",
         "A",
         "PROPERTY",
         "LARCENY-THEFT",
         "Shoplifting",
         "23C",
         "E",
         "E",
         "E2",
         "CAPITOL HILL",
         "15XX BLOCK OF BROADWAY",
         "-122.320789514",
         "47.614655490"
        ]
       ],
       "datasetInfos": [],
       "dbfsResultPath": null,
       "isJsonSchema": true,
       "metadata": {},
       "overflow": false,
       "plotOptions": {
        "customPlotOptions": {},
        "displayType": "table",
        "pivotAggregation": null,
        "pivotColumns": null,
        "xColumns": null,
        "yColumns": null
       },
       "removedWidgets": [],
       "schema": [
        {
         "metadata": "{}",
         "name": "report_number",
         "type": "\"string\""
        },
        {
         "metadata": "{}",
         "name": "offense_id",
         "type": "\"string\""
        },
        {
         "metadata": "{}",
         "name": "offense_start_datetime",
         "type": "\"string\""
        },
        {
         "metadata": "{}",
         "name": "offense_end_datetime",
         "type": "\"string\""
        },
        {
         "metadata": "{}",
         "name": "report_datetime",
         "type": "\"string\""
        },
        {
         "metadata": "{}",
         "name": "group_a_b",
         "type": "\"string\""
        },
        {
         "metadata": "{}",
         "name": "crime_against_category",
         "type": "\"string\""
        },
        {
         "metadata": "{}",
         "name": "offense_parent_group",
         "type": "\"string\""
        },
        {
         "metadata": "{}",
         "name": "offense",
         "type": "\"string\""
        },
        {
         "metadata": "{}",
         "name": "offense_code",
         "type": "\"string\""
        },
        {
         "metadata": "{}",
         "name": "precinct",
         "type": "\"string\""
        },
        {
         "metadata": "{}",
         "name": "sector",
         "type": "\"string\""
        },
        {
         "metadata": "{}",
         "name": "beat",
         "type": "\"string\""
        },
        {
         "metadata": "{}",
         "name": "mcpp",
         "type": "\"string\""
        },
        {
         "metadata": "{}",
         "name": "_100_block_address",
         "type": "\"string\""
        },
        {
         "metadata": "{}",
         "name": "longitude",
         "type": "\"string\""
        },
        {
         "metadata": "{}",
         "name": "latitude",
         "type": "\"string\""
        }
       ],
       "type": "table"
      }
     },
     "output_type": "display_data"
    }
   ],
   "source": [
    "from pyspark.sql import SparkSession\n",
    "spark = SparkSession \\\n",
    "    .builder \\\n",
    "    .appName(\"crime analysis\") \\\n",
    "    .config(\"spark.some.config.option\", \"some-value\") \\\n",
    "    .getOrCreate()\n",
    "\n",
    "sea_crime_df = spark.read.format(\"csv\").option(\"header\", \"true\").load(data_path)\n",
    "display(sea_crime_df.limit(10))\n",
    "sea_crime_df.createOrReplaceTempView(\"sea_crime\")"
   ]
  },
  {
   "cell_type": "markdown",
   "metadata": {
    "application/vnd.databricks.v1+cell": {
     "cellMetadata": {
      "byteLimit": 2048000,
      "rowLimit": 10000
     },
     "inputWidgets": {},
     "nuid": "5993aaa9-2786-47cb-ad19-34e1a60b7d05",
     "showTitle": false,
     "tableResultSettingsMap": {},
     "title": ""
    }
   },
   "source": [
    "### 1. Counting the number of crims for different category"
   ]
  },
  {
   "cell_type": "code",
   "execution_count": 0,
   "metadata": {
    "application/vnd.databricks.v1+cell": {
     "cellMetadata": {
      "byteLimit": 2048000,
      "rowLimit": 10000
     },
     "inputWidgets": {},
     "nuid": "567761fd-ce18-4cbb-b932-06e7bdca986d",
     "showTitle": false,
     "tableResultSettingsMap": {},
     "title": ""
    }
   },
   "outputs": [
    {
     "output_type": "display_data",
     "data": {
      "text/html": [
       "<style scoped>\n",
       "  .table-result-container {\n",
       "    max-height: 300px;\n",
       "    overflow: auto;\n",
       "  }\n",
       "  table, th, td {\n",
       "    border: 1px solid black;\n",
       "    border-collapse: collapse;\n",
       "  }\n",
       "  th, td {\n",
       "    padding: 5px;\n",
       "  }\n",
       "  th {\n",
       "    text-align: left;\n",
       "  }\n",
       "</style><div class='table-result-container'><table class='table-result'><thead style='background-color: white'><tr><th>offense_parent_group</th><th>count</th></tr></thead><tbody><tr><td>LARCENY-THEFT</td><td>434101</td></tr><tr><td>ASSAULT OFFENSES</td><td>169334</td></tr><tr><td>BURGLARY/BREAKING&ENTERING</td><td>133721</td></tr><tr><td>DESTRUCTION/DAMAGE/VANDALISM OF PROPERTY</td><td>110111</td></tr><tr><td>MOTOR VEHICLE THEFT</td><td>82174</td></tr><tr><td>FRAUD OFFENSES</td><td>65078</td></tr><tr><td>TRESPASS OF REAL PROPERTY</td><td>35445</td></tr><tr><td>DRUG/NARCOTIC OFFENSES</td><td>29516</td></tr><tr><td>ROBBERY</td><td>27417</td></tr><tr><td>DRIVING UNDER THE INFLUENCE</td><td>20574</td></tr><tr><td>WEAPON LAW VIOLATIONS</td><td>11651</td></tr><tr><td>FAMILY OFFENSES, NONVIOLENT</td><td>10470</td></tr><tr><td>STOLEN PROPERTY OFFENSES</td><td>7822</td></tr><tr><td>SEX OFFENSES</td><td>7816</td></tr><tr><td>BAD CHECKS</td><td>6730</td></tr><tr><td>COUNTERFEITING/FORGERY</td><td>5764</td></tr><tr><td>PROSTITUTION OFFENSES</td><td>4147</td></tr><tr><td>LIQUOR LAW VIOLATIONS</td><td>2357</td></tr><tr><td>ARSON</td><td>2134</td></tr><tr><td>EMBEZZLEMENT</td><td>2091</td></tr><tr><td>KIDNAPPING/ABDUCTION</td><td>1707</td></tr><tr><td>EXTORTION/BLACKMAIL</td><td>1206</td></tr><tr><td>CURFEW/LOITERING/VAGRANCY VIOLATIONS</td><td>916</td></tr><tr><td>HOMICIDE OFFENSES</td><td>609</td></tr><tr><td>PORNOGRAPHY/OBSCENE MATERIAL</td><td>522</td></tr><tr><td>ANIMAL CRUELTY</td><td>231</td></tr><tr><td>SEX OFFENSES, CONSENSUAL</td><td>214</td></tr><tr><td>PEEPING TOM</td><td>205</td></tr><tr><td>HUMAN TRAFFICKING</td><td>84</td></tr><tr><td>GAMBLING OFFENSES</td><td>28</td></tr><tr><td>DRUNKENNESS</td><td>21</td></tr><tr><td>BRIBERY</td><td>18</td></tr></tbody></table></div>"
      ]
     },
     "metadata": {
      "application/vnd.databricks.v1+output": {
       "addedWidgets": {},
       "aggData": [],
       "aggError": "",
       "aggOverflow": false,
       "aggSchema": [],
       "aggSeriesLimitReached": false,
       "aggType": "",
       "arguments": {},
       "columnCustomDisplayInfos": {},
       "data": [
        [
         "LARCENY-THEFT",
         434101
        ],
        [
         "ASSAULT OFFENSES",
         169334
        ],
        [
         "BURGLARY/BREAKING&ENTERING",
         133721
        ],
        [
         "DESTRUCTION/DAMAGE/VANDALISM OF PROPERTY",
         110111
        ],
        [
         "MOTOR VEHICLE THEFT",
         82174
        ],
        [
         "FRAUD OFFENSES",
         65078
        ],
        [
         "TRESPASS OF REAL PROPERTY",
         35445
        ],
        [
         "DRUG/NARCOTIC OFFENSES",
         29516
        ],
        [
         "ROBBERY",
         27417
        ],
        [
         "DRIVING UNDER THE INFLUENCE",
         20574
        ],
        [
         "WEAPON LAW VIOLATIONS",
         11651
        ],
        [
         "FAMILY OFFENSES, NONVIOLENT",
         10470
        ],
        [
         "STOLEN PROPERTY OFFENSES",
         7822
        ],
        [
         "SEX OFFENSES",
         7816
        ],
        [
         "BAD CHECKS",
         6730
        ],
        [
         "COUNTERFEITING/FORGERY",
         5764
        ],
        [
         "PROSTITUTION OFFENSES",
         4147
        ],
        [
         "LIQUOR LAW VIOLATIONS",
         2357
        ],
        [
         "ARSON",
         2134
        ],
        [
         "EMBEZZLEMENT",
         2091
        ],
        [
         "KIDNAPPING/ABDUCTION",
         1707
        ],
        [
         "EXTORTION/BLACKMAIL",
         1206
        ],
        [
         "CURFEW/LOITERING/VAGRANCY VIOLATIONS",
         916
        ],
        [
         "HOMICIDE OFFENSES",
         609
        ],
        [
         "PORNOGRAPHY/OBSCENE MATERIAL",
         522
        ],
        [
         "ANIMAL CRUELTY",
         231
        ],
        [
         "SEX OFFENSES, CONSENSUAL",
         214
        ],
        [
         "PEEPING TOM",
         205
        ],
        [
         "HUMAN TRAFFICKING",
         84
        ],
        [
         "GAMBLING OFFENSES",
         28
        ],
        [
         "DRUNKENNESS",
         21
        ],
        [
         "BRIBERY",
         18
        ]
       ],
       "datasetInfos": [],
       "dbfsResultPath": null,
       "isJsonSchema": true,
       "metadata": {},
       "overflow": false,
       "plotOptions": {
        "customPlotOptions": {},
        "displayType": "table",
        "pivotAggregation": null,
        "pivotColumns": null,
        "xColumns": null,
        "yColumns": null
       },
       "removedWidgets": [],
       "schema": [
        {
         "metadata": "{}",
         "name": "offense_parent_group",
         "type": "\"string\""
        },
        {
         "metadata": "{}",
         "name": "count",
         "type": "\"long\""
        }
       ],
       "type": "table"
      }
     },
     "output_type": "display_data"
    },
    {
     "output_type": "display_data",
     "data": {
      "text/plain": [
       "Databricks visualization. Run in Databricks to view."
      ]
     },
     "metadata": {
      "application/vnd.databricks.v1.subcommand+json": {
       "baseErrorDetails": null,
       "bindings": {},
       "collapsed": false,
       "command": "%python\n__backend_agg_display_orig = display\n__backend_agg_dfs = []\ndef __backend_agg_display_new(df):\n    __backend_agg_df_modules = [\"pandas.core.frame\", \"databricks.koalas.frame\", \"pyspark.sql.dataframe\", \"pyspark.pandas.frame\", \"pyspark.sql.connect.dataframe\"]\n    if (type(df).__module__ in __backend_agg_df_modules and type(df).__name__ == 'DataFrame') or isinstance(df, list):\n        __backend_agg_dfs.append(df)\n\ndisplay = __backend_agg_display_new\n\ndef __backend_agg_user_code_fn():\n    import base64\n    exec(base64.standard_b64decode(\"Y291bnRfcmVzdWx0ID0gc2VhX2NyaW1lX2RmLmdyb3VwQnkoJ29mZmVuc2VfcGFyZW50X2dyb3VwJykuY291bnQoKS5vcmRlckJ5KCdjb3VudCcsIGFzY2VuZGluZz1GYWxzZSkKZGlzcGxheShjb3VudF9yZXN1bHQp\").decode())\n\ntry:\n    # run user code\n    __backend_agg_user_code_fn()\n\n    #reset display function\n    display = __backend_agg_display_orig\n\n    if len(__backend_agg_dfs) > 0:\n        # create a temp view\n        if type(__backend_agg_dfs[0]).__module__ == \"databricks.koalas.frame\":\n            # koalas dataframe\n            __backend_agg_dfs[0].to_spark().createOrReplaceTempView(\"DatabricksView0db8cac\")\n        elif type(__backend_agg_dfs[0]).__module__ == \"pandas.core.frame\" or isinstance(__backend_agg_dfs[0], list):\n            # pandas dataframe\n            spark.createDataFrame(__backend_agg_dfs[0]).createOrReplaceTempView(\"DatabricksView0db8cac\")\n        else:\n            __backend_agg_dfs[0].createOrReplaceTempView(\"DatabricksView0db8cac\")\n        #run backend agg\n        display(spark.sql(\"\"\"WITH q AS (select * from DatabricksView0db8cac) SELECT `offense_parent_group`,SUM(`count`) `column_815d5ed649` FROM q GROUP BY `offense_parent_group`\"\"\"))\n    else:\n        displayHTML(\"dataframe no longer exists. If you're using dataframe.display(), use display(dataframe) instead.\")\n\n\nfinally:\n    spark.sql(\"drop view if exists DatabricksView0db8cac\")\n    display = __backend_agg_display_orig\n    del __backend_agg_display_new\n    del __backend_agg_display_orig\n    del __backend_agg_dfs\n    del __backend_agg_user_code_fn\n\n",
       "commandTitle": "Visualization 1",
       "commandType": "auto",
       "commandVersion": 0,
       "commentThread": [],
       "commentsVisible": false,
       "contentSha256Hex": null,
       "customPlotOptions": {
        "redashChart": [
         {
          "key": "type",
          "value": "CHART"
         },
         {
          "key": "options",
          "value": {
           "alignYAxesAtZero": true,
           "coefficient": 1,
           "columnConfigurationMap": {
            "x": {
             "column": "offense_parent_group",
             "id": "column_815d5ed648"
            },
            "y": [
             {
              "column": "count",
              "id": "column_815d5ed649",
              "transform": "SUM"
             }
            ]
           },
           "dateTimeFormat": "DD/MM/YYYY HH:mm",
           "direction": {
            "type": "counterclockwise"
           },
           "error_y": {
            "type": "data",
            "visible": true
           },
           "globalSeriesType": "column",
           "hideXAxis": false,
           "hideYAxes": false,
           "isAggregationOn": true,
           "legend": {
            "traceorder": "normal"
           },
           "missingValuesAsZero": true,
           "numberFormat": "0,0.[00000]",
           "percentFormat": "0[.]00%",
           "reverseX": false,
           "series": {
            "error_y": {
             "type": "data",
             "visible": true
            },
            "stacking": ""
           },
           "seriesOptions": {
            "column_815d5ed649": {
             "name": "count",
             "yAxis": 0
            }
           },
           "showDataLabels": false,
           "sizemode": "diameter",
           "sortX": false,
           "sortY": true,
           "swappedAxes": true,
           "textFormat": "",
           "useAggregationsUi": true,
           "valuesOptions": {},
           "version": 2,
           "xAxis": {
            "labels": {
             "enabled": true
            },
            "type": "-"
           },
           "yAxis": [
            {
             "type": "-"
            },
            {
             "opposite": true,
             "type": "-"
            }
           ]
          }
         }
        ]
       },
       "datasetPreviewNameToCmdIdMap": {},
       "diffDeletes": [],
       "diffInserts": [],
       "displayType": "redashChart",
       "error": null,
       "errorDetails": null,
       "errorSummary": null,
       "errorTraceType": null,
       "finishTime": 0,
       "globalVars": {},
       "guid": "",
       "height": "auto",
       "hideCommandCode": false,
       "hideCommandResult": false,
       "iPythonMetadata": null,
       "inputWidgets": {},
       "isLockedInExamMode": false,
       "latestUser": "a user",
       "latestUserId": null,
       "listResultMetadata": null,
       "metadata": {
        "byteLimit": 2048000,
        "rowLimit": 10000
       },
       "nuid": "9df74e06-e0e2-4bca-93c7-4d96c4d70183",
       "origId": 0,
       "parentHierarchy": [],
       "pivotAggregation": null,
       "pivotColumns": null,
       "position": 8.0,
       "resultDbfsErrorMessage": null,
       "resultDbfsStatus": "INLINED_IN_TREE",
       "results": null,
       "showCommandTitle": false,
       "startTime": 0,
       "state": "finished",
       "streamStates": {},
       "subcommandOptions": {
        "queryPlan": {
         "groups": [
          {
           "column": "offense_parent_group",
           "type": "column"
          }
         ],
         "selects": [
          {
           "column": "offense_parent_group",
           "type": "column"
          },
          {
           "alias": "column_815d5ed649",
           "args": [
            {
             "column": "count",
             "type": "column"
            }
           ],
           "function": "SUM",
           "type": "function"
          }
         ]
        }
       },
       "submitTime": 0,
       "subtype": "tableResultSubCmd.visualization",
       "tableResultIndex": 0,
       "tableResultSettingsMap": {},
       "useConsistentColors": false,
       "version": "CommandV1",
       "width": "auto",
       "workflows": [],
       "xColumns": null,
       "yColumns": null
      }
     },
     "output_type": "display_data"
    }
   ],
   "source": [
    "count_result = sea_crime_df.groupBy('offense_parent_group').count().orderBy('count', ascending=False)\n",
    "display(count_result)"
   ]
  },
  {
   "cell_type": "markdown",
   "metadata": {
    "application/vnd.databricks.v1+cell": {
     "cellMetadata": {
      "byteLimit": 2048000,
      "rowLimit": 10000
     },
     "inputWidgets": {},
     "nuid": "c3747568-594a-4507-9850-bf064eb21d5f",
     "showTitle": false,
     "tableResultSettingsMap": {},
     "title": ""
    }
   },
   "source": [
    "### 2. Counts the number of crimes for different district"
   ]
  },
  {
   "cell_type": "code",
   "execution_count": 0,
   "metadata": {
    "application/vnd.databricks.v1+cell": {
     "cellMetadata": {
      "byteLimit": 2048000,
      "rowLimit": 10000
     },
     "inputWidgets": {},
     "nuid": "7a12c0c4-572e-4344-bd41-ee3af4567ea9",
     "showTitle": false,
     "tableResultSettingsMap": {},
     "title": ""
    }
   },
   "outputs": [
    {
     "output_type": "display_data",
     "data": {
      "text/html": [
       "<style scoped>\n",
       "  .table-result-container {\n",
       "    max-height: 300px;\n",
       "    overflow: auto;\n",
       "  }\n",
       "  table, th, td {\n",
       "    border: 1px solid black;\n",
       "    border-collapse: collapse;\n",
       "  }\n",
       "  th, td {\n",
       "    padding: 5px;\n",
       "  }\n",
       "  th {\n",
       "    text-align: left;\n",
       "  }\n",
       "</style><div class='table-result-container'><table class='table-result'><thead style='background-color: white'><tr><th>mcpp</th><th>count</th></tr></thead><tbody><tr><td>DOWNTOWN COMMERCIAL</td><td>91534</td></tr><tr><td>CAPITOL HILL</td><td>72277</td></tr><tr><td>NORTHGATE</td><td>65864</td></tr><tr><td>QUEEN ANNE</td><td>60090</td></tr><tr><td>SLU/CASCADE</td><td>52159</td></tr><tr><td>UNIVERSITY</td><td>47121</td></tr><tr><td>ROOSEVELT/RAVENNA</td><td>42654</td></tr><tr><td>BALLARD SOUTH</td><td>38047</td></tr><tr><td>FIRST HILL</td><td>36502</td></tr><tr><td>LAKECITY</td><td>32386</td></tr><tr><td>CHINATOWN/INTERNATIONAL DISTRICT</td><td>31740</td></tr><tr><td>BELLTOWN</td><td>31200</td></tr><tr><td>CENTRAL AREA/SQUIRE PARK</td><td>30402</td></tr><tr><td>SANDPOINT</td><td>25696</td></tr><tr><td>GREENWOOD</td><td>25247</td></tr><tr><td>BITTERLAKE</td><td>23835</td></tr><tr><td>BALLARD NORTH</td><td>23691</td></tr><tr><td>FREMONT</td><td>21758</td></tr><tr><td>NORTH BEACON HILL</td><td>21443</td></tr><tr><td>WALLINGFORD</td><td>21208</td></tr><tr><td>SODO</td><td>20400</td></tr><tr><td>PIONEER SQUARE</td><td>19341</td></tr><tr><td>ROXHILL/WESTWOOD/ARBOR HEIGHTS</td><td>18679</td></tr><tr><td>MAGNOLIA</td><td>18354</td></tr><tr><td>ALASKA JUNCTION</td><td>17262</td></tr><tr><td>MOUNT BAKER</td><td>16980</td></tr><tr><td>BRIGHTON/DUNLAP</td><td>16675</td></tr><tr><td>MADRONA/LESCHI</td><td>15508</td></tr><tr><td>GEORGETOWN</td><td>15340</td></tr><tr><td>HIGHLAND PARK</td><td>13270</td></tr><tr><td>RAINIER BEACH</td><td>13027</td></tr><tr><td>MID BEACON HILL</td><td>12562</td></tr><tr><td>NORTH ADMIRAL</td><td>11510</td></tr><tr><td>JUDKINS PARK/NORTH BEACON HILL</td><td>10963</td></tr><tr><td>RAINIER VIEW</td><td>10908</td></tr><tr><td>MORGAN</td><td>10453</td></tr><tr><td>UNKNOWN</td><td>9964</td></tr><tr><td>HIGH POINT</td><td>9743</td></tr><tr><td>SOUTH PARK</td><td>9574</td></tr><tr><td>PHINNEY RIDGE</td><td>9569</td></tr><tr><td>NORTH DELRIDGE</td><td>9004</td></tr><tr><td>MILLER PARK</td><td>7931</td></tr><tr><td>MONTLAKE/PORTAGE BAY</td><td>7765</td></tr><tr><td>COLUMBIA CITY</td><td>7660</td></tr><tr><td>EASTLAKE - WEST</td><td>7593</td></tr><tr><td>NEW HOLLY</td><td>7326</td></tr><tr><td>CLAREMONT/RAINIER VISTA</td><td>6960</td></tr><tr><td>LAKEWOOD/SEWARD PARK</td><td>6305</td></tr><tr><td>ALKI</td><td>6067</td></tr><tr><td>HILLMAN CITY</td><td>5728</td></tr><tr><td>SOUTH BEACON HILL</td><td>5076</td></tr><tr><td>FAUNTLEROY SW</td><td>4862</td></tr><tr><td>SOUTH DELRIDGE</td><td>4808</td></tr><tr><td>MADISON PARK</td><td>3972</td></tr><tr><td>GENESEE</td><td>3696</td></tr><tr><td>EASTLAKE - EAST</td><td>1841</td></tr><tr><td>PIGEON POINT</td><td>1410</td></tr><tr><td>COMMERCIAL DUWAMISH</td><td>799</td></tr><tr><td>COMMERCIAL HARBOR ISLAND</td><td>445</td></tr><tr><td>null</td><td>23</td></tr><tr><td>NULL</td><td>4</td></tr><tr><td><Null></td><td>1</td></tr><tr><td>CHINATOWN/INTERNATION DISTRICT</td><td>1</td></tr><tr><td>CASE/CASCAD</td><td>1</td></tr></tbody></table></div>"
      ]
     },
     "metadata": {
      "application/vnd.databricks.v1+output": {
       "addedWidgets": {},
       "aggData": [],
       "aggError": "",
       "aggOverflow": false,
       "aggSchema": [],
       "aggSeriesLimitReached": false,
       "aggType": "",
       "arguments": {},
       "columnCustomDisplayInfos": {},
       "data": [
        [
         "DOWNTOWN COMMERCIAL",
         91534
        ],
        [
         "CAPITOL HILL",
         72277
        ],
        [
         "NORTHGATE",
         65864
        ],
        [
         "QUEEN ANNE",
         60090
        ],
        [
         "SLU/CASCADE",
         52159
        ],
        [
         "UNIVERSITY",
         47121
        ],
        [
         "ROOSEVELT/RAVENNA",
         42654
        ],
        [
         "BALLARD SOUTH",
         38047
        ],
        [
         "FIRST HILL",
         36502
        ],
        [
         "LAKECITY",
         32386
        ],
        [
         "CHINATOWN/INTERNATIONAL DISTRICT",
         31740
        ],
        [
         "BELLTOWN",
         31200
        ],
        [
         "CENTRAL AREA/SQUIRE PARK",
         30402
        ],
        [
         "SANDPOINT",
         25696
        ],
        [
         "GREENWOOD",
         25247
        ],
        [
         "BITTERLAKE",
         23835
        ],
        [
         "BALLARD NORTH",
         23691
        ],
        [
         "FREMONT",
         21758
        ],
        [
         "NORTH BEACON HILL",
         21443
        ],
        [
         "WALLINGFORD",
         21208
        ],
        [
         "SODO",
         20400
        ],
        [
         "PIONEER SQUARE",
         19341
        ],
        [
         "ROXHILL/WESTWOOD/ARBOR HEIGHTS",
         18679
        ],
        [
         "MAGNOLIA",
         18354
        ],
        [
         "ALASKA JUNCTION",
         17262
        ],
        [
         "MOUNT BAKER",
         16980
        ],
        [
         "BRIGHTON/DUNLAP",
         16675
        ],
        [
         "MADRONA/LESCHI",
         15508
        ],
        [
         "GEORGETOWN",
         15340
        ],
        [
         "HIGHLAND PARK",
         13270
        ],
        [
         "RAINIER BEACH",
         13027
        ],
        [
         "MID BEACON HILL",
         12562
        ],
        [
         "NORTH ADMIRAL",
         11510
        ],
        [
         "JUDKINS PARK/NORTH BEACON HILL",
         10963
        ],
        [
         "RAINIER VIEW",
         10908
        ],
        [
         "MORGAN",
         10453
        ],
        [
         "UNKNOWN",
         9964
        ],
        [
         "HIGH POINT",
         9743
        ],
        [
         "SOUTH PARK",
         9574
        ],
        [
         "PHINNEY RIDGE",
         9569
        ],
        [
         "NORTH DELRIDGE",
         9004
        ],
        [
         "MILLER PARK",
         7931
        ],
        [
         "MONTLAKE/PORTAGE BAY",
         7765
        ],
        [
         "COLUMBIA CITY",
         7660
        ],
        [
         "EASTLAKE - WEST",
         7593
        ],
        [
         "NEW HOLLY",
         7326
        ],
        [
         "CLAREMONT/RAINIER VISTA",
         6960
        ],
        [
         "LAKEWOOD/SEWARD PARK",
         6305
        ],
        [
         "ALKI",
         6067
        ],
        [
         "HILLMAN CITY",
         5728
        ],
        [
         "SOUTH BEACON HILL",
         5076
        ],
        [
         "FAUNTLEROY SW",
         4862
        ],
        [
         "SOUTH DELRIDGE",
         4808
        ],
        [
         "MADISON PARK",
         3972
        ],
        [
         "GENESEE",
         3696
        ],
        [
         "EASTLAKE - EAST",
         1841
        ],
        [
         "PIGEON POINT",
         1410
        ],
        [
         "COMMERCIAL DUWAMISH",
         799
        ],
        [
         "COMMERCIAL HARBOR ISLAND",
         445
        ],
        [
         null,
         23
        ],
        [
         "NULL",
         4
        ],
        [
         "<Null>",
         1
        ],
        [
         "CHINATOWN/INTERNATION DISTRICT",
         1
        ],
        [
         "CASE/CASCAD",
         1
        ]
       ],
       "datasetInfos": [],
       "dbfsResultPath": null,
       "isJsonSchema": true,
       "metadata": {},
       "overflow": false,
       "plotOptions": {
        "customPlotOptions": {},
        "displayType": "table",
        "pivotAggregation": null,
        "pivotColumns": null,
        "xColumns": null,
        "yColumns": null
       },
       "removedWidgets": [],
       "schema": [
        {
         "metadata": "{}",
         "name": "mcpp",
         "type": "\"string\""
        },
        {
         "metadata": "{}",
         "name": "count",
         "type": "\"long\""
        }
       ],
       "type": "table"
      }
     },
     "output_type": "display_data"
    },
    {
     "output_type": "display_data",
     "data": {
      "text/plain": [
       "Databricks visualization. Run in Databricks to view."
      ]
     },
     "metadata": {
      "application/vnd.databricks.v1.subcommand+json": {
       "baseErrorDetails": null,
       "bindings": {},
       "collapsed": false,
       "command": "%python\n__backend_agg_display_orig = display\n__backend_agg_dfs = []\ndef __backend_agg_display_new(df):\n    __backend_agg_df_modules = [\"pandas.core.frame\", \"databricks.koalas.frame\", \"pyspark.sql.dataframe\", \"pyspark.pandas.frame\", \"pyspark.sql.connect.dataframe\"]\n    if (type(df).__module__ in __backend_agg_df_modules and type(df).__name__ == 'DataFrame') or isinstance(df, list):\n        __backend_agg_dfs.append(df)\n\ndisplay = __backend_agg_display_new\n\ndef __backend_agg_user_code_fn():\n    import base64\n    exec(base64.standard_b64decode(\"bG9jX2NvdW50cyA9IHNlYV9jcmltZV9kZi5ncm91cEJ5KCJtY3BwIikuY291bnQoKS5vcmRlckJ5KCdjb3VudCcsIGFzY2VuZGluZz1GYWxzZSkKZGlzcGxheShsb2NfY291bnRzKQo=\").decode())\n\ntry:\n    # run user code\n    __backend_agg_user_code_fn()\n\n    #reset display function\n    display = __backend_agg_display_orig\n\n    if len(__backend_agg_dfs) > 0:\n        # create a temp view\n        if type(__backend_agg_dfs[0]).__module__ == \"databricks.koalas.frame\":\n            # koalas dataframe\n            __backend_agg_dfs[0].to_spark().createOrReplaceTempView(\"DatabricksView19658d3\")\n        elif type(__backend_agg_dfs[0]).__module__ == \"pandas.core.frame\" or isinstance(__backend_agg_dfs[0], list):\n            # pandas dataframe\n            spark.createDataFrame(__backend_agg_dfs[0]).createOrReplaceTempView(\"DatabricksView19658d3\")\n        else:\n            __backend_agg_dfs[0].createOrReplaceTempView(\"DatabricksView19658d3\")\n        #run backend agg\n        display(spark.sql(\"\"\"WITH q AS (select * from DatabricksView19658d3) SELECT SUM(`count`) `column_815d5ed667`,`mcpp` FROM q GROUP BY `mcpp`\"\"\"))\n    else:\n        displayHTML(\"dataframe no longer exists. If you're using dataframe.display(), use display(dataframe) instead.\")\n\n\nfinally:\n    spark.sql(\"drop view if exists DatabricksView19658d3\")\n    display = __backend_agg_display_orig\n    del __backend_agg_display_new\n    del __backend_agg_display_orig\n    del __backend_agg_dfs\n    del __backend_agg_user_code_fn\n\n",
       "commandTitle": "Visualization 1",
       "commandType": "auto",
       "commandVersion": 0,
       "commentThread": [],
       "commentsVisible": false,
       "contentSha256Hex": null,
       "customPlotOptions": {
        "redashChart": [
         {
          "key": "type",
          "value": "CHART"
         },
         {
          "key": "options",
          "value": {
           "alignYAxesAtZero": true,
           "coefficient": 1,
           "columnConfigurationMap": {
            "x": {
             "column": "mcpp",
             "id": "column_815d5ed659"
            },
            "y": [
             {
              "column": "count",
              "id": "column_815d5ed667",
              "transform": "SUM"
             }
            ]
           },
           "dateTimeFormat": "DD/MM/YYYY HH:mm",
           "direction": {
            "type": "counterclockwise"
           },
           "error_y": {
            "type": "data",
            "visible": true
           },
           "globalSeriesType": "column",
           "isAggregationOn": true,
           "legend": {
            "traceorder": "normal"
           },
           "missingValuesAsZero": true,
           "numberFormat": "0,0.[00000]",
           "percentFormat": "0[.]00%",
           "series": {
            "error_y": {
             "type": "data",
             "visible": true
            },
            "stacking": null
           },
           "seriesOptions": {
            "column_815d5ed667": {
             "type": "column",
             "yAxis": 0
            }
           },
           "showDataLabels": false,
           "sizemode": "diameter",
           "sortX": false,
           "sortY": true,
           "swappedAxes": true,
           "textFormat": "",
           "useAggregationsUi": true,
           "valuesOptions": {},
           "version": 2,
           "xAxis": {
            "labels": {
             "enabled": true
            },
            "type": "-"
           },
           "yAxis": [
            {
             "type": "-"
            },
            {
             "opposite": true,
             "type": "-"
            }
           ]
          }
         }
        ]
       },
       "datasetPreviewNameToCmdIdMap": {},
       "diffDeletes": [],
       "diffInserts": [],
       "displayType": "redashChart",
       "error": null,
       "errorDetails": null,
       "errorSummary": null,
       "errorTraceType": null,
       "finishTime": 0,
       "globalVars": {},
       "guid": "",
       "height": "auto",
       "hideCommandCode": false,
       "hideCommandResult": false,
       "iPythonMetadata": null,
       "inputWidgets": {},
       "isLockedInExamMode": false,
       "latestUser": "a user",
       "latestUserId": null,
       "listResultMetadata": null,
       "metadata": {
        "byteLimit": 2048000,
        "rowLimit": 10000
       },
       "nuid": "73bca4de-e87f-43d0-a5e6-014c7a642b25",
       "origId": 0,
       "parentHierarchy": [],
       "pivotAggregation": null,
       "pivotColumns": null,
       "position": 9.0,
       "resultDbfsErrorMessage": null,
       "resultDbfsStatus": "INLINED_IN_TREE",
       "results": null,
       "showCommandTitle": false,
       "startTime": 0,
       "state": "finished",
       "streamStates": {},
       "subcommandOptions": {
        "queryPlan": {
         "groups": [
          {
           "column": "mcpp",
           "type": "column"
          }
         ],
         "selects": [
          {
           "alias": "column_815d5ed667",
           "args": [
            {
             "column": "count",
             "type": "column"
            }
           ],
           "function": "SUM",
           "type": "function"
          },
          {
           "column": "mcpp",
           "type": "column"
          }
         ]
        }
       },
       "submitTime": 0,
       "subtype": "tableResultSubCmd.visualization",
       "tableResultIndex": 0,
       "tableResultSettingsMap": {},
       "useConsistentColors": false,
       "version": "CommandV1",
       "width": "auto",
       "workflows": [],
       "xColumns": null,
       "yColumns": null
      }
     },
     "output_type": "display_data"
    }
   ],
   "source": [
    "loc_counts = sea_crime_df.groupBy(\"mcpp\").count().orderBy('count', ascending=False)\n",
    "display(loc_counts)\n"
   ]
  },
  {
   "cell_type": "markdown",
   "metadata": {
    "application/vnd.databricks.v1+cell": {
     "cellMetadata": {
      "byteLimit": 2048000,
      "rowLimit": 10000
     },
     "inputWidgets": {},
     "nuid": "4a795c55-46e6-4bd7-bc86-173b19f5e165",
     "showTitle": false,
     "tableResultSettingsMap": {},
     "title": ""
    }
   },
   "source": [
    "### 3. Analysis the number of crime in each month of 2015, 2016, 2017, 2018. Then give insight about business impact for result."
   ]
  },
  {
   "cell_type": "code",
   "execution_count": 0,
   "metadata": {
    "application/vnd.databricks.v1+cell": {
     "cellMetadata": {
      "byteLimit": 2048000,
      "rowLimit": 10000
     },
     "inputWidgets": {},
     "nuid": "96289997-0861-4a68-90b8-bb2e9857d087",
     "showTitle": false,
     "tableResultSettingsMap": {},
     "title": ""
    }
   },
   "outputs": [
    {
     "output_type": "display_data",
     "data": {
      "text/html": [
       "<style scoped>\n",
       "  .table-result-container {\n",
       "    max-height: 300px;\n",
       "    overflow: auto;\n",
       "  }\n",
       "  table, th, td {\n",
       "    border: 1px solid black;\n",
       "    border-collapse: collapse;\n",
       "  }\n",
       "  th, td {\n",
       "    padding: 5px;\n",
       "  }\n",
       "  th {\n",
       "    text-align: left;\n",
       "  }\n",
       "</style><div class='table-result-container'><table class='table-result'><thead style='background-color: white'><tr><th>report_number</th><th>offense_id</th><th>offense_start_datetime</th><th>offense_end_datetime</th><th>report_datetime</th><th>group_a_b</th><th>crime_against_category</th><th>offense_parent_group</th><th>offense</th><th>offense_code</th><th>precinct</th><th>sector</th><th>beat</th><th>mcpp</th><th>_100_block_address</th><th>longitude</th><th>latitude</th><th>formatted_report_datetime</th><th>IncidentDate</th><th>year</th><th>month</th><th>time</th></tr></thead><tbody><tr><td>2020-044452</td><td>12605598696</td><td>2020-02-03T08:00:00.000</td><td>2020-02-04T08:00:00.000</td><td>2020-02-05T10:06:28.000</td><td>A</td><td>PROPERTY</td><td>LARCENY-THEFT</td><td>Theft of Motor Vehicle Parts or Accessories</td><td>23G</td><td>N</td><td>J</td><td>J3</td><td>ROOSEVELT/RAVENNA</td><td>63XX BLOCK OF 5TH AVE NE</td><td>-122.323399063</td><td>47.675117890</td><td>2020-02-05 10:06:28</td><td>02/05/2020</td><td>2020</td><td>2</td><td>10</td></tr><tr><td>2020-044465</td><td>12605567653</td><td>2020-02-02T20:30:00.000</td><td>2020-02-02T21:30:00.000</td><td>2020-02-05T09:39:33.000</td><td>A</td><td>PROPERTY</td><td>ROBBERY</td><td>Robbery</td><td>120</td><td>N</td><td>U</td><td>U3</td><td>ROOSEVELT/RAVENNA</td><td>26TH AVE NE / NE BLAKELEY ST</td><td>-122.299552180</td><td>47.666384070</td><td>2020-02-05 09:39:33</td><td>02/05/2020</td><td>2020</td><td>2</td><td>9</td></tr><tr><td>2020-044225</td><td>12605174036</td><td>2020-02-05T01:17:00.000</td><td>2020-02-05T02:21:00.000</td><td>2020-02-05T03:30:55.000</td><td>A</td><td>PROPERTY</td><td>DESTRUCTION/DAMAGE/VANDALISM OF PROPERTY</td><td>Destruction/Damage/Vandalism of Property</td><td>290</td><td>W</td><td>Q</td><td>Q1</td><td>MAGNOLIA</td><td>22XX BLOCK OF W RAYE ST</td><td>-122.384864805</td><td>47.642927340</td><td>2020-02-05 03:30:55</td><td>02/05/2020</td><td>2020</td><td>2</td><td>3</td></tr><tr><td>2020-044076</td><td>12605081469</td><td>2020-02-05T00:51:21.000</td><td>null</td><td>2020-02-05T00:51:31.000</td><td>B</td><td>SOCIETY</td><td>DRIVING UNDER THE INFLUENCE</td><td>Driving Under the Influence</td><td>90D</td><td>N</td><td>B</td><td>B2</td><td>BALLARD SOUTH</td><td>NW 46TH ST / 8TH AVE NW</td><td>-122.366195342</td><td>47.662193080</td><td>2020-02-05 00:51:31</td><td>02/05/2020</td><td>2020</td><td>2</td><td>0</td></tr><tr><td>2020-044142</td><td>12605077150</td><td>2020-02-04T22:59:00.000</td><td>null</td><td>2020-02-05T00:45:08.000</td><td>A</td><td>PROPERTY</td><td>LARCENY-THEFT</td><td>Shoplifting</td><td>23C</td><td>W</td><td>M</td><td>M1</td><td>DOWNTOWN COMMERCIAL</td><td>14XX BLOCK OF 2ND AVE</td><td>-122.338449515</td><td>47.608788660</td><td>2020-02-05 00:45:08</td><td>02/05/2020</td><td>2020</td><td>2</td><td>0</td></tr><tr><td>2020-044104</td><td>12605029468</td><td>2020-02-04T20:30:00.000</td><td>2020-02-04T20:45:00.000</td><td>2020-02-04T23:31:52.000</td><td>A</td><td>PROPERTY</td><td>DESTRUCTION/DAMAGE/VANDALISM OF PROPERTY</td><td>Destruction/Damage/Vandalism of Property</td><td>290</td><td>N</td><td>J</td><td>J3</td><td>PHINNEY RIDGE</td><td>71XX BLOCK OF GREENWOOD AVE N</td><td>-122.355309065</td><td>47.680526950</td><td>2020-02-04 23:31:52</td><td>02/04/2020</td><td>2020</td><td>2</td><td>23</td></tr><tr><td>2020-043988</td><td>12604995759</td><td>2020-02-04T19:58:00.000</td><td>null</td><td>2020-02-04T22:46:19.000</td><td>A</td><td>PROPERTY</td><td>LARCENY-THEFT</td><td>Shoplifting</td><td>23C</td><td>SW</td><td>F</td><td>F2</td><td>ROXHILL/WESTWOOD/ARBOR HEIGHTS</td><td>26XX BLOCK OF SW BARTON ST</td><td>-122.367311993</td><td>47.521027580</td><td>2020-02-04 22:46:19</td><td>02/04/2020</td><td>2020</td><td>2</td><td>22</td></tr><tr><td>2020-043928</td><td>12604963106</td><td>2020-02-04T19:01:00.000</td><td>null</td><td>2020-02-04T21:59:07.000</td><td>B</td><td>SOCIETY</td><td>DRIVING UNDER THE INFLUENCE</td><td>Driving Under the Influence</td><td>90D</td><td>N</td><td>L</td><td>L2</td><td>NORTHGATE</td><td>15TH AVE NE / NE 95TH ST</td><td>-122.312077769</td><td>47.697616170</td><td>2020-02-04 21:59:07</td><td>02/04/2020</td><td>2020</td><td>2</td><td>21</td></tr><tr><td>2020-044065</td><td>12605008517</td><td>2020-02-04T21:00:00.000</td><td>2020-02-04T21:15:00.000</td><td>2020-02-04T21:47:32.000</td><td>A</td><td>PROPERTY</td><td>LARCENY-THEFT</td><td>Theft From Motor Vehicle</td><td>23F</td><td>E</td><td>E</td><td>E2</td><td>CAPITOL HILL</td><td>15XX BLOCK OF 12TH AVE</td><td>-122.316845012</td><td>47.614683850</td><td>2020-02-04 21:47:32</td><td>02/04/2020</td><td>2020</td><td>2</td><td>21</td></tr><tr><td>2020-044038</td><td>12604928711</td><td>2020-02-04T20:57:00.000</td><td>null</td><td>2020-02-04T21:20:35.000</td><td>A</td><td>PROPERTY</td><td>LARCENY-THEFT</td><td>Shoplifting</td><td>23C</td><td>E</td><td>E</td><td>E2</td><td>CAPITOL HILL</td><td>15XX BLOCK OF BROADWAY</td><td>-122.320789514</td><td>47.614655490</td><td>2020-02-04 21:20:35</td><td>02/04/2020</td><td>2020</td><td>2</td><td>21</td></tr></tbody></table></div>"
      ]
     },
     "metadata": {
      "application/vnd.databricks.v1+output": {
       "addedWidgets": {},
       "aggData": [],
       "aggError": "",
       "aggOverflow": false,
       "aggSchema": [],
       "aggSeriesLimitReached": false,
       "aggType": "",
       "arguments": {},
       "columnCustomDisplayInfos": {},
       "data": [
        [
         "2020-044452",
         "12605598696",
         "2020-02-03T08:00:00.000",
         "2020-02-04T08:00:00.000",
         "2020-02-05T10:06:28.000",
         "A",
         "PROPERTY",
         "LARCENY-THEFT",
         "Theft of Motor Vehicle Parts or Accessories",
         "23G",
         "N",
         "J",
         "J3",
         "ROOSEVELT/RAVENNA",
         "63XX BLOCK OF 5TH AVE NE",
         "-122.323399063",
         "47.675117890",
         "2020-02-05 10:06:28",
         "02/05/2020",
         2020,
         2,
         10
        ],
        [
         "2020-044465",
         "12605567653",
         "2020-02-02T20:30:00.000",
         "2020-02-02T21:30:00.000",
         "2020-02-05T09:39:33.000",
         "A",
         "PROPERTY",
         "ROBBERY",
         "Robbery",
         "120",
         "N",
         "U",
         "U3",
         "ROOSEVELT/RAVENNA",
         "26TH AVE NE / NE BLAKELEY ST",
         "-122.299552180",
         "47.666384070",
         "2020-02-05 09:39:33",
         "02/05/2020",
         2020,
         2,
         9
        ],
        [
         "2020-044225",
         "12605174036",
         "2020-02-05T01:17:00.000",
         "2020-02-05T02:21:00.000",
         "2020-02-05T03:30:55.000",
         "A",
         "PROPERTY",
         "DESTRUCTION/DAMAGE/VANDALISM OF PROPERTY",
         "Destruction/Damage/Vandalism of Property",
         "290",
         "W",
         "Q",
         "Q1",
         "MAGNOLIA",
         "22XX BLOCK OF W RAYE ST",
         "-122.384864805",
         "47.642927340",
         "2020-02-05 03:30:55",
         "02/05/2020",
         2020,
         2,
         3
        ],
        [
         "2020-044076",
         "12605081469",
         "2020-02-05T00:51:21.000",
         null,
         "2020-02-05T00:51:31.000",
         "B",
         "SOCIETY",
         "DRIVING UNDER THE INFLUENCE",
         "Driving Under the Influence",
         "90D",
         "N",
         "B",
         "B2",
         "BALLARD SOUTH",
         "NW 46TH ST / 8TH AVE NW",
         "-122.366195342",
         "47.662193080",
         "2020-02-05 00:51:31",
         "02/05/2020",
         2020,
         2,
         0
        ],
        [
         "2020-044142",
         "12605077150",
         "2020-02-04T22:59:00.000",
         null,
         "2020-02-05T00:45:08.000",
         "A",
         "PROPERTY",
         "LARCENY-THEFT",
         "Shoplifting",
         "23C",
         "W",
         "M",
         "M1",
         "DOWNTOWN COMMERCIAL",
         "14XX BLOCK OF 2ND AVE",
         "-122.338449515",
         "47.608788660",
         "2020-02-05 00:45:08",
         "02/05/2020",
         2020,
         2,
         0
        ],
        [
         "2020-044104",
         "12605029468",
         "2020-02-04T20:30:00.000",
         "2020-02-04T20:45:00.000",
         "2020-02-04T23:31:52.000",
         "A",
         "PROPERTY",
         "DESTRUCTION/DAMAGE/VANDALISM OF PROPERTY",
         "Destruction/Damage/Vandalism of Property",
         "290",
         "N",
         "J",
         "J3",
         "PHINNEY RIDGE",
         "71XX BLOCK OF GREENWOOD AVE N",
         "-122.355309065",
         "47.680526950",
         "2020-02-04 23:31:52",
         "02/04/2020",
         2020,
         2,
         23
        ],
        [
         "2020-043988",
         "12604995759",
         "2020-02-04T19:58:00.000",
         null,
         "2020-02-04T22:46:19.000",
         "A",
         "PROPERTY",
         "LARCENY-THEFT",
         "Shoplifting",
         "23C",
         "SW",
         "F",
         "F2",
         "ROXHILL/WESTWOOD/ARBOR HEIGHTS",
         "26XX BLOCK OF SW BARTON ST",
         "-122.367311993",
         "47.521027580",
         "2020-02-04 22:46:19",
         "02/04/2020",
         2020,
         2,
         22
        ],
        [
         "2020-043928",
         "12604963106",
         "2020-02-04T19:01:00.000",
         null,
         "2020-02-04T21:59:07.000",
         "B",
         "SOCIETY",
         "DRIVING UNDER THE INFLUENCE",
         "Driving Under the Influence",
         "90D",
         "N",
         "L",
         "L2",
         "NORTHGATE",
         "15TH AVE NE / NE 95TH ST",
         "-122.312077769",
         "47.697616170",
         "2020-02-04 21:59:07",
         "02/04/2020",
         2020,
         2,
         21
        ],
        [
         "2020-044065",
         "12605008517",
         "2020-02-04T21:00:00.000",
         "2020-02-04T21:15:00.000",
         "2020-02-04T21:47:32.000",
         "A",
         "PROPERTY",
         "LARCENY-THEFT",
         "Theft From Motor Vehicle",
         "23F",
         "E",
         "E",
         "E2",
         "CAPITOL HILL",
         "15XX BLOCK OF 12TH AVE",
         "-122.316845012",
         "47.614683850",
         "2020-02-04 21:47:32",
         "02/04/2020",
         2020,
         2,
         21
        ],
        [
         "2020-044038",
         "12604928711",
         "2020-02-04T20:57:00.000",
         null,
         "2020-02-04T21:20:35.000",
         "A",
         "PROPERTY",
         "LARCENY-THEFT",
         "Shoplifting",
         "23C",
         "E",
         "E",
         "E2",
         "CAPITOL HILL",
         "15XX BLOCK OF BROADWAY",
         "-122.320789514",
         "47.614655490",
         "2020-02-04 21:20:35",
         "02/04/2020",
         2020,
         2,
         21
        ]
       ],
       "datasetInfos": [],
       "dbfsResultPath": null,
       "isJsonSchema": true,
       "metadata": {},
       "overflow": false,
       "plotOptions": {
        "customPlotOptions": {},
        "displayType": "table",
        "pivotAggregation": null,
        "pivotColumns": null,
        "xColumns": null,
        "yColumns": null
       },
       "removedWidgets": [],
       "schema": [
        {
         "metadata": "{}",
         "name": "report_number",
         "type": "\"string\""
        },
        {
         "metadata": "{}",
         "name": "offense_id",
         "type": "\"string\""
        },
        {
         "metadata": "{}",
         "name": "offense_start_datetime",
         "type": "\"string\""
        },
        {
         "metadata": "{}",
         "name": "offense_end_datetime",
         "type": "\"string\""
        },
        {
         "metadata": "{}",
         "name": "report_datetime",
         "type": "\"string\""
        },
        {
         "metadata": "{}",
         "name": "group_a_b",
         "type": "\"string\""
        },
        {
         "metadata": "{}",
         "name": "crime_against_category",
         "type": "\"string\""
        },
        {
         "metadata": "{}",
         "name": "offense_parent_group",
         "type": "\"string\""
        },
        {
         "metadata": "{}",
         "name": "offense",
         "type": "\"string\""
        },
        {
         "metadata": "{}",
         "name": "offense_code",
         "type": "\"string\""
        },
        {
         "metadata": "{}",
         "name": "precinct",
         "type": "\"string\""
        },
        {
         "metadata": "{}",
         "name": "sector",
         "type": "\"string\""
        },
        {
         "metadata": "{}",
         "name": "beat",
         "type": "\"string\""
        },
        {
         "metadata": "{}",
         "name": "mcpp",
         "type": "\"string\""
        },
        {
         "metadata": "{}",
         "name": "_100_block_address",
         "type": "\"string\""
        },
        {
         "metadata": "{}",
         "name": "longitude",
         "type": "\"string\""
        },
        {
         "metadata": "{}",
         "name": "latitude",
         "type": "\"string\""
        },
        {
         "metadata": "{}",
         "name": "formatted_report_datetime",
         "type": "\"string\""
        },
        {
         "metadata": "{}",
         "name": "IncidentDate",
         "type": "\"string\""
        },
        {
         "metadata": "{}",
         "name": "year",
         "type": "\"integer\""
        },
        {
         "metadata": "{}",
         "name": "month",
         "type": "\"integer\""
        },
        {
         "metadata": "{}",
         "name": "time",
         "type": "\"integer\""
        }
       ],
       "type": "table"
      }
     },
     "output_type": "display_data"
    }
   ],
   "source": [
    "from pyspark.sql.functions import col, to_timestamp, date_format, year, month, hour, to_date\n",
    "sea_crime_df = sea_crime_df.withColumn(\n",
    "    \"formatted_report_datetime\", \n",
    "    date_format(to_timestamp(col(\"report_datetime\"), \"yyyy-MM-dd'T'HH:mm:ss.SSS\"), \"yyyy-MM-dd HH:mm:ss\")\n",
    ") \\\n",
    "    .withColumn(\n",
    "    \"IncidentDate\", \n",
    "    date_format(to_timestamp(col(\"report_datetime\"), \"yyyy-MM-dd'T'HH:mm:ss.SSS\"), \"MM/dd/yyyy\")\n",
    ")\n",
    "\n",
    "sea_crime_df = sea_crime_df.withColumn(\"year\", year(col('formatted_report_datetime'))) \\\n",
    "    .withColumn(\"month\", month(col('formatted_report_datetime'))) \\\n",
    "    .withColumn(\"time\", hour(col('formatted_report_datetime')))\n",
    "display(sea_crime_df.limit(10))\n"
   ]
  },
  {
   "cell_type": "code",
   "execution_count": 0,
   "metadata": {
    "application/vnd.databricks.v1+cell": {
     "cellMetadata": {
      "byteLimit": 2048000,
      "rowLimit": 10000
     },
     "inputWidgets": {},
     "nuid": "9a22fc05-6816-4098-ad2c-88641f1ec1e9",
     "showTitle": false,
     "tableResultSettingsMap": {},
     "title": ""
    }
   },
   "outputs": [
    {
     "output_type": "display_data",
     "data": {
      "text/html": [
       "<style scoped>\n",
       "  .table-result-container {\n",
       "    max-height: 300px;\n",
       "    overflow: auto;\n",
       "  }\n",
       "  table, th, td {\n",
       "    border: 1px solid black;\n",
       "    border-collapse: collapse;\n",
       "  }\n",
       "  th, td {\n",
       "    padding: 5px;\n",
       "  }\n",
       "  th {\n",
       "    text-align: left;\n",
       "  }\n",
       "</style><div class='table-result-container'><table class='table-result'><thead style='background-color: white'><tr><th>year</th><th>month</th><th>count</th></tr></thead><tbody><tr><td>2018</td><td>5</td><td>6667</td></tr><tr><td>2018</td><td>7</td><td>6628</td></tr><tr><td>2017</td><td>8</td><td>6506</td></tr><tr><td>2018</td><td>8</td><td>6466</td></tr><tr><td>2017</td><td>10</td><td>6458</td></tr><tr><td>2017</td><td>7</td><td>6440</td></tr><tr><td>2018</td><td>10</td><td>6396</td></tr><tr><td>2018</td><td>6</td><td>6380</td></tr><tr><td>2018</td><td>12</td><td>6275</td></tr><tr><td>2018</td><td>9</td><td>6247</td></tr><tr><td>2018</td><td>1</td><td>6218</td></tr><tr><td>2017</td><td>3</td><td>6212</td></tr><tr><td>2018</td><td>11</td><td>6180</td></tr><tr><td>2016</td><td>5</td><td>6169</td></tr><tr><td>2017</td><td>5</td><td>6168</td></tr><tr><td>2017</td><td>1</td><td>6167</td></tr><tr><td>2018</td><td>3</td><td>6138</td></tr><tr><td>2016</td><td>7</td><td>6125</td></tr><tr><td>2016</td><td>1</td><td>6072</td></tr><tr><td>2017</td><td>12</td><td>6066</td></tr><tr><td>2018</td><td>4</td><td>6060</td></tr><tr><td>2017</td><td>6</td><td>6057</td></tr><tr><td>2017</td><td>9</td><td>6014</td></tr><tr><td>2016</td><td>10</td><td>5966</td></tr><tr><td>2016</td><td>12</td><td>5954</td></tr><tr><td>2016</td><td>11</td><td>5940</td></tr><tr><td>2017</td><td>4</td><td>5938</td></tr><tr><td>2015</td><td>10</td><td>5906</td></tr><tr><td>2016</td><td>8</td><td>5888</td></tr><tr><td>2015</td><td>8</td><td>5848</td></tr><tr><td>2017</td><td>11</td><td>5838</td></tr><tr><td>2015</td><td>12</td><td>5813</td></tr><tr><td>2015</td><td>11</td><td>5785</td></tr><tr><td>2016</td><td>2</td><td>5754</td></tr><tr><td>2015</td><td>6</td><td>5741</td></tr><tr><td>2016</td><td>6</td><td>5737</td></tr><tr><td>2015</td><td>9</td><td>5701</td></tr><tr><td>2015</td><td>5</td><td>5681</td></tr><tr><td>2015</td><td>7</td><td>5670</td></tr><tr><td>2016</td><td>9</td><td>5641</td></tr><tr><td>2018</td><td>2</td><td>5636</td></tr><tr><td>2015</td><td>4</td><td>5621</td></tr><tr><td>2015</td><td>3</td><td>5613</td></tr><tr><td>2016</td><td>3</td><td>5582</td></tr><tr><td>2016</td><td>4</td><td>5552</td></tr><tr><td>2015</td><td>1</td><td>5476</td></tr><tr><td>2017</td><td>2</td><td>5221</td></tr><tr><td>2015</td><td>2</td><td>5016</td></tr></tbody></table></div>"
      ]
     },
     "metadata": {
      "application/vnd.databricks.v1+output": {
       "addedWidgets": {},
       "aggData": [],
       "aggError": "",
       "aggOverflow": false,
       "aggSchema": [],
       "aggSeriesLimitReached": false,
       "aggType": "",
       "arguments": {},
       "columnCustomDisplayInfos": {},
       "data": [
        [
         2018,
         5,
         6667
        ],
        [
         2018,
         7,
         6628
        ],
        [
         2017,
         8,
         6506
        ],
        [
         2018,
         8,
         6466
        ],
        [
         2017,
         10,
         6458
        ],
        [
         2017,
         7,
         6440
        ],
        [
         2018,
         10,
         6396
        ],
        [
         2018,
         6,
         6380
        ],
        [
         2018,
         12,
         6275
        ],
        [
         2018,
         9,
         6247
        ],
        [
         2018,
         1,
         6218
        ],
        [
         2017,
         3,
         6212
        ],
        [
         2018,
         11,
         6180
        ],
        [
         2016,
         5,
         6169
        ],
        [
         2017,
         5,
         6168
        ],
        [
         2017,
         1,
         6167
        ],
        [
         2018,
         3,
         6138
        ],
        [
         2016,
         7,
         6125
        ],
        [
         2016,
         1,
         6072
        ],
        [
         2017,
         12,
         6066
        ],
        [
         2018,
         4,
         6060
        ],
        [
         2017,
         6,
         6057
        ],
        [
         2017,
         9,
         6014
        ],
        [
         2016,
         10,
         5966
        ],
        [
         2016,
         12,
         5954
        ],
        [
         2016,
         11,
         5940
        ],
        [
         2017,
         4,
         5938
        ],
        [
         2015,
         10,
         5906
        ],
        [
         2016,
         8,
         5888
        ],
        [
         2015,
         8,
         5848
        ],
        [
         2017,
         11,
         5838
        ],
        [
         2015,
         12,
         5813
        ],
        [
         2015,
         11,
         5785
        ],
        [
         2016,
         2,
         5754
        ],
        [
         2015,
         6,
         5741
        ],
        [
         2016,
         6,
         5737
        ],
        [
         2015,
         9,
         5701
        ],
        [
         2015,
         5,
         5681
        ],
        [
         2015,
         7,
         5670
        ],
        [
         2016,
         9,
         5641
        ],
        [
         2018,
         2,
         5636
        ],
        [
         2015,
         4,
         5621
        ],
        [
         2015,
         3,
         5613
        ],
        [
         2016,
         3,
         5582
        ],
        [
         2016,
         4,
         5552
        ],
        [
         2015,
         1,
         5476
        ],
        [
         2017,
         2,
         5221
        ],
        [
         2015,
         2,
         5016
        ]
       ],
       "datasetInfos": [],
       "dbfsResultPath": null,
       "isJsonSchema": true,
       "metadata": {},
       "overflow": false,
       "plotOptions": {
        "customPlotOptions": {},
        "displayType": "table",
        "pivotAggregation": null,
        "pivotColumns": null,
        "xColumns": null,
        "yColumns": null
       },
       "removedWidgets": [],
       "schema": [
        {
         "metadata": "{}",
         "name": "year",
         "type": "\"integer\""
        },
        {
         "metadata": "{}",
         "name": "month",
         "type": "\"integer\""
        },
        {
         "metadata": "{}",
         "name": "count",
         "type": "\"long\""
        }
       ],
       "type": "table"
      }
     },
     "output_type": "display_data"
    },
    {
     "output_type": "display_data",
     "data": {
      "text/plain": [
       "Databricks visualization. Run in Databricks to view."
      ]
     },
     "metadata": {
      "application/vnd.databricks.v1.subcommand+json": {
       "baseErrorDetails": null,
       "bindings": {},
       "collapsed": false,
       "command": "%python\n__backend_agg_display_orig = display\n__backend_agg_dfs = []\ndef __backend_agg_display_new(df):\n    __backend_agg_df_modules = [\"pandas.core.frame\", \"databricks.koalas.frame\", \"pyspark.sql.dataframe\", \"pyspark.pandas.frame\", \"pyspark.sql.connect.dataframe\"]\n    if (type(df).__module__ in __backend_agg_df_modules and type(df).__name__ == 'DataFrame') or isinstance(df, list):\n        __backend_agg_dfs.append(df)\n\ndisplay = __backend_agg_display_new\n\ndef __backend_agg_user_code_fn():\n    import base64\n    exec(base64.standard_b64decode(\"c2VhX2NyaW1lX2RmLmNyZWF0ZU9yUmVwbGFjZVRlbXBWaWV3KCJzZWFfY3JpbWVfZGYiKQpzZWFfY3JpbWVfMTUxOCA9IHNwYXJrLnNxbCgiIiIKICAgIFNFTEVDVCB5ZWFyLCBtb250aCwgQ09VTlQoKikgQVMgY291bnQgCiAgICBGUk9NIHNlYV9jcmltZV9kZiAKICAgIFdIRVJFIHllYXIgPj0gMjAxNQogICAgQU5EIHllYXIgPD0gMjAxOCAKICAgIEdST1VQIEJZIHllYXIsIG1vbnRoIAogICAgT1JERVIgQlkgY291bnQgREVTQyIiIikKZGlzcGxheShzZWFfY3JpbWVfMTUxOCk=\").decode())\n\ntry:\n    # run user code\n    __backend_agg_user_code_fn()\n\n    #reset display function\n    display = __backend_agg_display_orig\n\n    if len(__backend_agg_dfs) > 0:\n        # create a temp view\n        if type(__backend_agg_dfs[0]).__module__ == \"databricks.koalas.frame\":\n            # koalas dataframe\n            __backend_agg_dfs[0].to_spark().createOrReplaceTempView(\"DatabricksViewf5a9d25\")\n        elif type(__backend_agg_dfs[0]).__module__ == \"pandas.core.frame\" or isinstance(__backend_agg_dfs[0], list):\n            # pandas dataframe\n            spark.createDataFrame(__backend_agg_dfs[0]).createOrReplaceTempView(\"DatabricksViewf5a9d25\")\n        else:\n            __backend_agg_dfs[0].createOrReplaceTempView(\"DatabricksViewf5a9d25\")\n        #run backend agg\n        display(spark.sql(\"\"\"WITH q AS (select * from DatabricksViewf5a9d25) SELECT `year`,SUM(`count`) `column_bbbad3d935`,`month` FROM q GROUP BY `month`,`year`\"\"\"))\n    else:\n        displayHTML(\"dataframe no longer exists. If you're using dataframe.display(), use display(dataframe) instead.\")\n\n\nfinally:\n    spark.sql(\"drop view if exists DatabricksViewf5a9d25\")\n    display = __backend_agg_display_orig\n    del __backend_agg_display_new\n    del __backend_agg_display_orig\n    del __backend_agg_dfs\n    del __backend_agg_user_code_fn\n\n",
       "commandTitle": "Visualization 1",
       "commandType": "auto",
       "commandVersion": 0,
       "commentThread": [],
       "commentsVisible": false,
       "contentSha256Hex": null,
       "customPlotOptions": {
        "redashChart": [
         {
          "key": "type",
          "value": "CHART"
         },
         {
          "key": "options",
          "value": {
           "alignYAxesAtZero": true,
           "coefficient": 1,
           "columnConfigurationMap": {
            "series": {
             "column": "month",
             "id": "column_bbbad3d940"
            },
            "x": {
             "column": "year",
             "id": "column_bbbad3d941"
            },
            "y": [
             {
              "column": "count",
              "id": "column_bbbad3d935",
              "transform": "SUM"
             }
            ]
           },
           "dateTimeFormat": "DD/MM/YYYY HH:mm",
           "direction": {
            "type": "counterclockwise"
           },
           "error_y": {
            "type": "data",
            "visible": true
           },
           "globalSeriesType": "column",
           "isAggregationOn": true,
           "legend": {
            "traceorder": "normal"
           },
           "missingValuesAsZero": true,
           "numberFormat": "0,0.[00000]",
           "percentFormat": "0[.]00%",
           "series": {
            "error_y": {
             "type": "data",
             "visible": true
            },
            "stacking": null
           },
           "seriesOptions": {
            "column_bbbad3d935": {
             "type": "column",
             "yAxis": 0,
             "zIndex": 0
            }
           },
           "showDataLabels": false,
           "sizemode": "diameter",
           "sortX": true,
           "sortY": true,
           "swappedAxes": false,
           "textFormat": "",
           "useAggregationsUi": true,
           "valuesOptions": {},
           "version": 2,
           "xAxis": {
            "labels": {
             "enabled": true
            },
            "type": "-"
           },
           "yAxis": [
            {
             "type": "-"
            },
            {
             "opposite": true,
             "type": "-"
            }
           ]
          }
         }
        ]
       },
       "datasetPreviewNameToCmdIdMap": {},
       "diffDeletes": [],
       "diffInserts": [],
       "displayType": "redashChart",
       "error": null,
       "errorDetails": null,
       "errorSummary": null,
       "errorTraceType": null,
       "finishTime": 0,
       "globalVars": {},
       "guid": "",
       "height": "auto",
       "hideCommandCode": false,
       "hideCommandResult": false,
       "iPythonMetadata": null,
       "inputWidgets": {},
       "isLockedInExamMode": false,
       "latestUser": "a user",
       "latestUserId": null,
       "listResultMetadata": null,
       "metadata": {
        "byteLimit": 2048000,
        "rowLimit": 10000
       },
       "nuid": "34b35205-de65-42fa-bd48-8d4ad37ce742",
       "origId": 0,
       "parentHierarchy": [],
       "pivotAggregation": null,
       "pivotColumns": null,
       "position": 12.0,
       "resultDbfsErrorMessage": null,
       "resultDbfsStatus": "INLINED_IN_TREE",
       "results": null,
       "showCommandTitle": false,
       "startTime": 0,
       "state": "finished",
       "streamStates": {},
       "subcommandOptions": {
        "queryPlan": {
         "groups": [
          {
           "column": "year",
           "type": "column"
          },
          {
           "column": "month",
           "type": "column"
          }
         ],
         "selects": [
          {
           "column": "year",
           "type": "column"
          },
          {
           "alias": "column_bbbad3d935",
           "args": [
            {
             "column": "count",
             "type": "column"
            }
           ],
           "function": "SUM",
           "type": "function"
          },
          {
           "column": "month",
           "type": "column"
          }
         ]
        }
       },
       "submitTime": 0,
       "subtype": "tableResultSubCmd.visualization",
       "tableResultIndex": 0,
       "tableResultSettingsMap": {},
       "useConsistentColors": false,
       "version": "CommandV1",
       "width": "auto",
       "workflows": [],
       "xColumns": null,
       "yColumns": null
      }
     },
     "output_type": "display_data"
    }
   ],
   "source": [
    "sea_crime_df.createOrReplaceTempView(\"sea_crime_df\")\n",
    "sea_crime_1518 = spark.sql(\"\"\"\n",
    "    SELECT year, month, COUNT(*) AS count \n",
    "    FROM sea_crime_df \n",
    "    WHERE year >= 2015\n",
    "    AND year <= 2018 \n",
    "    GROUP BY year, month \n",
    "    ORDER BY count DESC\"\"\")\n",
    "display(sea_crime_1518)"
   ]
  },
  {
   "cell_type": "markdown",
   "metadata": {
    "application/vnd.databricks.v1+cell": {
     "cellMetadata": {
      "byteLimit": 2048000,
      "rowLimit": 10000
     },
     "inputWidgets": {},
     "nuid": "76d8dc10-90c7-47c3-84b0-1cd22079c488",
     "showTitle": false,
     "tableResultSettingsMap": {},
     "title": ""
    }
   },
   "source": [
    "### Crime Distribution\n",
    "#### 1. Crime Distribution Over Time\n",
    "High Crime Rate Months:\n",
    "\n",
    "May: May 2018 (6,667 crimes) and May 2016 (6,169 crimes) had the highest crime rates.\n",
    "\n",
    "July: July 2018 (6,628 crimes) and July 2016 (6,125 crimes) also saw high crime activity.\n",
    "\n",
    "August: August 2017 (6,506 crimes) and August 2018 (6,466 crimes) were peak months for crime.\n",
    "\n",
    "Low Crime Months:\n",
    "\n",
    "February: February 2018 (5,636 crimes) and February 2015 (5,016 crimes) had the lowest crime rates.\n",
    "\n",
    "January: January 2015 (5,476 crimes) and January 2016 (6,072 crimes) also saw relatively low crime activity.\n",
    "\n",
    "#### 2. Annual Trends\n",
    "2018: Overall crime rates were high, especially in May, July, August, and October.\n",
    "\n",
    "2017: Crime rates were also high, particularly in August, October, and July.\n",
    "\n",
    "2016: Crime rates were relatively stable, with peaks in May and July.\n",
    "\n",
    "2015: Crime rates were generally lower, especially in February and January.\n",
    "\n",
    "#### 3. Seasonal Trends\n",
    "Spring and Summer (May - August): Crime rates were consistently higher, possibly due to warmer weather and increased outdoor activities.\n",
    "\n",
    "Fall and Winter (October - December): Crime rates remained high, potentially linked to holidays like Halloween and Christmas.\n",
    "\n",
    "Winter (January - February): Crime rates were lower, likely due to colder weather and reduced outdoor activities.\n",
    "\n",
    "###Business Impact\n",
    "#### 1. Resource Allocation\n",
    "Peak Season Resource Deployment:\n",
    "\n",
    "Increase police patrols during high-crime months (e.g., May, July, August) in crime hotspots like city centers and commercial areas.\n",
    "\n",
    "Enhance community policing and public safety campaigns to raise awareness among residents.\n",
    "\n",
    "Low Season Resource Optimization:\n",
    "\n",
    "Use low-crime months (e.g., January, February) for officer training, equipment maintenance, and resource optimization.\n",
    "\n",
    "#### 2. Preventive Measures\n",
    "Seasonal Prevention Strategies:\n",
    "\n",
    "During spring and summer, increase nighttime patrols and surveillance in high-risk areas like entertainment districts and parks.\n",
    "\n",
    "During holidays, deploy additional police forces to prevent theft, robbery, and other crimes.\n",
    "\n",
    "Data-Driven Decision Making:\n",
    "\n",
    "Use historical crime data to predict future trends and implement proactive measures.\n",
    "\n",
    "Identify crime hotspots through data analysis and implement targeted security measures."
   ]
  },
  {
   "cell_type": "markdown",
   "metadata": {
    "application/vnd.databricks.v1+cell": {
     "cellMetadata": {},
     "inputWidgets": {},
     "nuid": "04c8f451-d37d-48f0-996c-4133cf9ec61f",
     "showTitle": false,
     "tableResultSettingsMap": {},
     "title": ""
    }
   },
   "source": [
    "## 4. Analyse time frequency in Seattle districts and provide advice for local police department."
   ]
  },
  {
   "cell_type": "code",
   "execution_count": 0,
   "metadata": {
    "application/vnd.databricks.v1+cell": {
     "cellMetadata": {
      "byteLimit": 2048000,
      "rowLimit": 10000
     },
     "inputWidgets": {},
     "nuid": "1b21469e-1400-4ccd-b051-c8b1f9119c60",
     "showTitle": false,
     "tableResultSettingsMap": {},
     "title": ""
    }
   },
   "outputs": [
    {
     "output_type": "display_data",
     "data": {
      "text/html": [
       "<style scoped>\n",
       "  .table-result-container {\n",
       "    max-height: 300px;\n",
       "    overflow: auto;\n",
       "  }\n",
       "  table, th, td {\n",
       "    border: 1px solid black;\n",
       "    border-collapse: collapse;\n",
       "  }\n",
       "  th, td {\n",
       "    padding: 5px;\n",
       "  }\n",
       "  th {\n",
       "    text-align: left;\n",
       "  }\n",
       "</style><div class='table-result-container'><table class='table-result'><thead style='background-color: white'><tr><th>IncidentDate</th><th>time</th><th>count</th></tr></thead><tbody><tr><td>12/15/2022</td><td>6</td><td>54</td></tr><tr><td>12/15/2021</td><td>13</td><td>34</td></tr><tr><td>12/15/2021</td><td>14</td><td>34</td></tr><tr><td>12/15/2021</td><td>16</td><td>28</td></tr><tr><td>12/15/2021</td><td>10</td><td>19</td></tr><tr><td>12/15/2021</td><td>15</td><td>19</td></tr><tr><td>12/15/2020</td><td>10</td><td>18</td></tr><tr><td>12/15/2021</td><td>12</td><td>17</td></tr><tr><td>12/15/2021</td><td>17</td><td>15</td></tr><tr><td>12/15/2021</td><td>18</td><td>15</td></tr><tr><td>12/15/2020</td><td>9</td><td>14</td></tr><tr><td>12/15/2020</td><td>13</td><td>13</td></tr><tr><td>12/15/2022</td><td>18</td><td>13</td></tr><tr><td>12/15/2022</td><td>17</td><td>13</td></tr><tr><td>12/15/2022</td><td>14</td><td>13</td></tr><tr><td>12/15/2021</td><td>22</td><td>13</td></tr><tr><td>12/15/2021</td><td>11</td><td>12</td></tr><tr><td>12/15/2022</td><td>10</td><td>12</td></tr><tr><td>12/15/2022</td><td>15</td><td>12</td></tr><tr><td>12/15/2020</td><td>18</td><td>11</td></tr><tr><td>12/15/2020</td><td>17</td><td>11</td></tr><tr><td>12/15/2022</td><td>23</td><td>11</td></tr><tr><td>12/15/2020</td><td>11</td><td>10</td></tr><tr><td>12/15/2020</td><td>14</td><td>10</td></tr><tr><td>12/15/2021</td><td>21</td><td>10</td></tr><tr><td>12/15/2021</td><td>19</td><td>10</td></tr><tr><td>12/15/2020</td><td>19</td><td>8</td></tr><tr><td>12/15/2020</td><td>8</td><td>8</td></tr><tr><td>12/15/2021</td><td>20</td><td>8</td></tr><tr><td>12/15/2022</td><td>12</td><td>8</td></tr><tr><td>12/15/2022</td><td>11</td><td>8</td></tr><tr><td>12/15/2020</td><td>6</td><td>7</td></tr><tr><td>12/15/2020</td><td>21</td><td>7</td></tr><tr><td>12/15/2020</td><td>22</td><td>7</td></tr><tr><td>12/15/2020</td><td>20</td><td>7</td></tr><tr><td>12/15/2020</td><td>15</td><td>7</td></tr><tr><td>12/15/2022</td><td>9</td><td>7</td></tr><tr><td>12/15/2022</td><td>7</td><td>7</td></tr><tr><td>12/15/2021</td><td>9</td><td>7</td></tr><tr><td>12/15/2022</td><td>21</td><td>7</td></tr><tr><td>12/15/2020</td><td>16</td><td>6</td></tr><tr><td>12/15/2020</td><td>0</td><td>6</td></tr><tr><td>12/15/2022</td><td>3</td><td>5</td></tr><tr><td>12/15/2022</td><td>20</td><td>5</td></tr><tr><td>12/15/2021</td><td>7</td><td>5</td></tr><tr><td>12/15/2021</td><td>0</td><td>4</td></tr><tr><td>12/15/2021</td><td>23</td><td>4</td></tr><tr><td>12/15/2022</td><td>2</td><td>4</td></tr><tr><td>12/15/2021</td><td>1</td><td>4</td></tr><tr><td>12/15/2022</td><td>22</td><td>4</td></tr><tr><td>12/15/2021</td><td>3</td><td>4</td></tr><tr><td>12/15/2021</td><td>8</td><td>4</td></tr><tr><td>12/15/2022</td><td>13</td><td>4</td></tr><tr><td>12/15/2020</td><td>4</td><td>3</td></tr><tr><td>12/15/2020</td><td>1</td><td>3</td></tr><tr><td>12/15/2022</td><td>5</td><td>3</td></tr><tr><td>12/15/2022</td><td>16</td><td>3</td></tr><tr><td>12/15/2022</td><td>1</td><td>3</td></tr><tr><td>12/15/2021</td><td>5</td><td>3</td></tr><tr><td>12/15/2020</td><td>12</td><td>2</td></tr><tr><td>12/15/2020</td><td>2</td><td>2</td></tr><tr><td>12/15/2020</td><td>3</td><td>2</td></tr><tr><td>12/15/2020</td><td>23</td><td>2</td></tr><tr><td>12/15/2021</td><td>6</td><td>2</td></tr><tr><td>12/15/2022</td><td>8</td><td>2</td></tr><tr><td>12/15/2022</td><td>0</td><td>2</td></tr><tr><td>12/15/2022</td><td>4</td><td>2</td></tr><tr><td>12/15/2021</td><td>4</td><td>2</td></tr><tr><td>12/15/2020</td><td>5</td><td>1</td></tr><tr><td>12/15/2020</td><td>7</td><td>1</td></tr><tr><td>12/15/2022</td><td>19</td><td>1</td></tr></tbody></table></div>"
      ]
     },
     "metadata": {
      "application/vnd.databricks.v1+output": {
       "addedWidgets": {},
       "aggData": [],
       "aggError": "",
       "aggOverflow": false,
       "aggSchema": [],
       "aggSeriesLimitReached": false,
       "aggType": "",
       "arguments": {},
       "columnCustomDisplayInfos": {},
       "data": [
        [
         "12/15/2022",
         6,
         54
        ],
        [
         "12/15/2021",
         13,
         34
        ],
        [
         "12/15/2021",
         14,
         34
        ],
        [
         "12/15/2021",
         16,
         28
        ],
        [
         "12/15/2021",
         10,
         19
        ],
        [
         "12/15/2021",
         15,
         19
        ],
        [
         "12/15/2020",
         10,
         18
        ],
        [
         "12/15/2021",
         12,
         17
        ],
        [
         "12/15/2021",
         17,
         15
        ],
        [
         "12/15/2021",
         18,
         15
        ],
        [
         "12/15/2020",
         9,
         14
        ],
        [
         "12/15/2020",
         13,
         13
        ],
        [
         "12/15/2022",
         18,
         13
        ],
        [
         "12/15/2022",
         17,
         13
        ],
        [
         "12/15/2022",
         14,
         13
        ],
        [
         "12/15/2021",
         22,
         13
        ],
        [
         "12/15/2021",
         11,
         12
        ],
        [
         "12/15/2022",
         10,
         12
        ],
        [
         "12/15/2022",
         15,
         12
        ],
        [
         "12/15/2020",
         18,
         11
        ],
        [
         "12/15/2020",
         17,
         11
        ],
        [
         "12/15/2022",
         23,
         11
        ],
        [
         "12/15/2020",
         11,
         10
        ],
        [
         "12/15/2020",
         14,
         10
        ],
        [
         "12/15/2021",
         21,
         10
        ],
        [
         "12/15/2021",
         19,
         10
        ],
        [
         "12/15/2020",
         19,
         8
        ],
        [
         "12/15/2020",
         8,
         8
        ],
        [
         "12/15/2021",
         20,
         8
        ],
        [
         "12/15/2022",
         12,
         8
        ],
        [
         "12/15/2022",
         11,
         8
        ],
        [
         "12/15/2020",
         6,
         7
        ],
        [
         "12/15/2020",
         21,
         7
        ],
        [
         "12/15/2020",
         22,
         7
        ],
        [
         "12/15/2020",
         20,
         7
        ],
        [
         "12/15/2020",
         15,
         7
        ],
        [
         "12/15/2022",
         9,
         7
        ],
        [
         "12/15/2022",
         7,
         7
        ],
        [
         "12/15/2021",
         9,
         7
        ],
        [
         "12/15/2022",
         21,
         7
        ],
        [
         "12/15/2020",
         16,
         6
        ],
        [
         "12/15/2020",
         0,
         6
        ],
        [
         "12/15/2022",
         3,
         5
        ],
        [
         "12/15/2022",
         20,
         5
        ],
        [
         "12/15/2021",
         7,
         5
        ],
        [
         "12/15/2021",
         0,
         4
        ],
        [
         "12/15/2021",
         23,
         4
        ],
        [
         "12/15/2022",
         2,
         4
        ],
        [
         "12/15/2021",
         1,
         4
        ],
        [
         "12/15/2022",
         22,
         4
        ],
        [
         "12/15/2021",
         3,
         4
        ],
        [
         "12/15/2021",
         8,
         4
        ],
        [
         "12/15/2022",
         13,
         4
        ],
        [
         "12/15/2020",
         4,
         3
        ],
        [
         "12/15/2020",
         1,
         3
        ],
        [
         "12/15/2022",
         5,
         3
        ],
        [
         "12/15/2022",
         16,
         3
        ],
        [
         "12/15/2022",
         1,
         3
        ],
        [
         "12/15/2021",
         5,
         3
        ],
        [
         "12/15/2020",
         12,
         2
        ],
        [
         "12/15/2020",
         2,
         2
        ],
        [
         "12/15/2020",
         3,
         2
        ],
        [
         "12/15/2020",
         23,
         2
        ],
        [
         "12/15/2021",
         6,
         2
        ],
        [
         "12/15/2022",
         8,
         2
        ],
        [
         "12/15/2022",
         0,
         2
        ],
        [
         "12/15/2022",
         4,
         2
        ],
        [
         "12/15/2021",
         4,
         2
        ],
        [
         "12/15/2020",
         5,
         1
        ],
        [
         "12/15/2020",
         7,
         1
        ],
        [
         "12/15/2022",
         19,
         1
        ]
       ],
       "datasetInfos": [],
       "dbfsResultPath": null,
       "isJsonSchema": true,
       "metadata": {},
       "overflow": false,
       "plotOptions": {
        "customPlotOptions": {},
        "displayType": "table",
        "pivotAggregation": null,
        "pivotColumns": null,
        "xColumns": null,
        "yColumns": null
       },
       "removedWidgets": [],
       "schema": [
        {
         "metadata": "{}",
         "name": "IncidentDate",
         "type": "\"string\""
        },
        {
         "metadata": "{}",
         "name": "time",
         "type": "\"integer\""
        },
        {
         "metadata": "{}",
         "name": "count",
         "type": "\"long\""
        }
       ],
       "type": "table"
      }
     },
     "output_type": "display_data"
    },
    {
     "output_type": "display_data",
     "data": {
      "text/plain": [
       "Databricks visualization. Run in Databricks to view."
      ]
     },
     "metadata": {
      "application/vnd.databricks.v1.subcommand+json": {
       "baseErrorDetails": null,
       "bindings": {},
       "collapsed": false,
       "command": "%python\n__backend_agg_display_orig = display\n__backend_agg_dfs = []\ndef __backend_agg_display_new(df):\n    __backend_agg_df_modules = [\"pandas.core.frame\", \"databricks.koalas.frame\", \"pyspark.sql.dataframe\", \"pyspark.pandas.frame\", \"pyspark.sql.connect.dataframe\"]\n    if (type(df).__module__ in __backend_agg_df_modules and type(df).__name__ == 'DataFrame') or isinstance(df, list):\n        __backend_agg_dfs.append(df)\n\ndisplay = __backend_agg_display_new\n\ndef __backend_agg_user_code_fn():\n    import base64\n    exec(base64.standard_b64decode(\"c2VhX2NyaW1lX2RmLmNyZWF0ZU9yUmVwbGFjZVRlbXBWaWV3KCJzZWFfY3JpbWVfZGYiKQpzZWFfY3JpbWVfaG91cm5kYXkgPSBzcGFyay5zcWwoIiIiCiAgICBTRUxFQ1QgSW5jaWRlbnREYXRlLCB0aW1lLCBDT1VOVCgqKSBBUyBjb3VudCAKICAgIEZST00gc2VhX2NyaW1lX2RmIAogICAgV0hFUkUgSW5jaWRlbnREYXRlIElOICgnMTIvMTUvMjAyMCcsICcxMi8xNS8yMDIxJywgJzEyLzE1LzIwMjInKQogICAgR1JPVVAgQlkgSW5jaWRlbnREYXRlLCB0aW1lCiAgICBPUkRFUiBCWSBjb3VudCBERVNDIiIiKQpkaXNwbGF5KHNlYV9jcmltZV9ob3VybmRheSk=\").decode())\n\ntry:\n    # run user code\n    __backend_agg_user_code_fn()\n\n    #reset display function\n    display = __backend_agg_display_orig\n\n    if len(__backend_agg_dfs) > 0:\n        # create a temp view\n        if type(__backend_agg_dfs[0]).__module__ == \"databricks.koalas.frame\":\n            # koalas dataframe\n            __backend_agg_dfs[0].to_spark().createOrReplaceTempView(\"DatabricksView8e1abae\")\n        elif type(__backend_agg_dfs[0]).__module__ == \"pandas.core.frame\" or isinstance(__backend_agg_dfs[0], list):\n            # pandas dataframe\n            spark.createDataFrame(__backend_agg_dfs[0]).createOrReplaceTempView(\"DatabricksView8e1abae\")\n        else:\n            __backend_agg_dfs[0].createOrReplaceTempView(\"DatabricksView8e1abae\")\n        #run backend agg\n        display(spark.sql(\"\"\"WITH q AS (select * from DatabricksView8e1abae) SELECT `time`,SUM(`count`) `column_bbbad3d951`,`IncidentDate` FROM q GROUP BY `IncidentDate`,`time`\"\"\"))\n    else:\n        displayHTML(\"dataframe no longer exists. If you're using dataframe.display(), use display(dataframe) instead.\")\n\n\nfinally:\n    spark.sql(\"drop view if exists DatabricksView8e1abae\")\n    display = __backend_agg_display_orig\n    del __backend_agg_display_new\n    del __backend_agg_display_orig\n    del __backend_agg_dfs\n    del __backend_agg_user_code_fn\n\n",
       "commandTitle": "Visualization 1",
       "commandType": "auto",
       "commandVersion": 0,
       "commentThread": [],
       "commentsVisible": false,
       "contentSha256Hex": null,
       "customPlotOptions": {
        "redashChart": [
         {
          "key": "type",
          "value": "CHART"
         },
         {
          "key": "options",
          "value": {
           "alignYAxesAtZero": true,
           "coefficient": 1,
           "columnConfigurationMap": {
            "series": {
             "column": "IncidentDate",
             "id": "column_bbbad3d952"
            },
            "x": {
             "column": "time",
             "id": "column_bbbad3d950"
            },
            "y": [
             {
              "column": "count",
              "id": "column_bbbad3d951",
              "transform": "SUM"
             }
            ]
           },
           "dateTimeFormat": "DD/MM/YYYY HH:mm",
           "direction": {
            "type": "counterclockwise"
           },
           "error_y": {
            "type": "data",
            "visible": true
           },
           "globalSeriesType": "line",
           "isAggregationOn": true,
           "legend": {
            "traceorder": "normal"
           },
           "missingValuesAsZero": true,
           "numberFormat": "0,0.[00000]",
           "percentFormat": "0[.]00%",
           "series": {
            "error_y": {
             "type": "data",
             "visible": true
            },
            "stacking": null
           },
           "seriesOptions": {
            "column_bbbad3d951": {
             "name": "count",
             "type": "line",
             "yAxis": 0
            }
           },
           "showDataLabels": false,
           "sizemode": "diameter",
           "sortX": true,
           "sortY": true,
           "swappedAxes": false,
           "textFormat": "",
           "useAggregationsUi": true,
           "valuesOptions": {},
           "version": 2,
           "xAxis": {
            "labels": {
             "enabled": true
            },
            "type": "-"
           },
           "yAxis": [
            {
             "type": "-"
            },
            {
             "opposite": true,
             "type": "-"
            }
           ]
          }
         }
        ]
       },
       "datasetPreviewNameToCmdIdMap": {},
       "diffDeletes": [],
       "diffInserts": [],
       "displayType": "redashChart",
       "error": null,
       "errorDetails": null,
       "errorSummary": null,
       "errorTraceType": null,
       "finishTime": 0,
       "globalVars": {},
       "guid": "",
       "height": "auto",
       "hideCommandCode": false,
       "hideCommandResult": false,
       "iPythonMetadata": null,
       "inputWidgets": {},
       "isLockedInExamMode": false,
       "latestUser": "a user",
       "latestUserId": null,
       "listResultMetadata": null,
       "metadata": {
        "byteLimit": 2048000,
        "rowLimit": 10000
       },
       "nuid": "e4e47c5b-2149-42b7-89e7-ca91c9f68b31",
       "origId": 0,
       "parentHierarchy": [],
       "pivotAggregation": null,
       "pivotColumns": null,
       "position": 14.0,
       "resultDbfsErrorMessage": null,
       "resultDbfsStatus": "INLINED_IN_TREE",
       "results": null,
       "showCommandTitle": false,
       "startTime": 0,
       "state": "finished",
       "streamStates": {},
       "subcommandOptions": {
        "queryPlan": {
         "groups": [
          {
           "column": "time",
           "type": "column"
          },
          {
           "column": "IncidentDate",
           "type": "column"
          }
         ],
         "selects": [
          {
           "column": "time",
           "type": "column"
          },
          {
           "alias": "column_bbbad3d951",
           "args": [
            {
             "column": "count",
             "type": "column"
            }
           ],
           "function": "SUM",
           "type": "function"
          },
          {
           "column": "IncidentDate",
           "type": "column"
          }
         ]
        }
       },
       "submitTime": 0,
       "subtype": "tableResultSubCmd.visualization",
       "tableResultIndex": 0,
       "tableResultSettingsMap": {},
       "useConsistentColors": false,
       "version": "CommandV1",
       "width": "auto",
       "workflows": [],
       "xColumns": null,
       "yColumns": null
      }
     },
     "output_type": "display_data"
    }
   ],
   "source": [
    "sea_crime_df.createOrReplaceTempView(\"sea_crime_df\")\n",
    "sea_crime_hournday = spark.sql(\"\"\"\n",
    "    SELECT IncidentDate, time, COUNT(*) AS count \n",
    "    FROM sea_crime_df \n",
    "    WHERE IncidentDate IN ('12/15/2020', '12/15/2021', '12/15/2022')\n",
    "    GROUP BY IncidentDate, time\n",
    "    ORDER BY count DESC\"\"\")\n",
    "display(sea_crime_hournday)"
   ]
  },
  {
   "cell_type": "code",
   "execution_count": 0,
   "metadata": {
    "application/vnd.databricks.v1+cell": {
     "cellMetadata": {
      "byteLimit": 2048000,
      "rowLimit": 10000
     },
     "inputWidgets": {},
     "nuid": "4db3b78c-a0d4-4643-97b2-351fbc7fac86",
     "showTitle": false,
     "tableResultSettingsMap": {},
     "title": ""
    }
   },
   "outputs": [
    {
     "output_type": "display_data",
     "data": {
      "text/html": [
       "<style scoped>\n",
       "  .table-result-container {\n",
       "    max-height: 300px;\n",
       "    overflow: auto;\n",
       "  }\n",
       "  table, th, td {\n",
       "    border: 1px solid black;\n",
       "    border-collapse: collapse;\n",
       "  }\n",
       "  th, td {\n",
       "    padding: 5px;\n",
       "  }\n",
       "  th {\n",
       "    text-align: left;\n",
       "  }\n",
       "</style><div class='table-result-container'><table class='table-result'><thead style='background-color: white'><tr><th>mcpp</th><th>count</th></tr></thead><tbody><tr><td>DOWNTOWN COMMERCIAL</td><td>91534</td></tr><tr><td>CAPITOL HILL</td><td>72277</td></tr><tr><td>NORTHGATE</td><td>65864</td></tr></tbody></table></div>"
      ]
     },
     "metadata": {
      "application/vnd.databricks.v1+output": {
       "addedWidgets": {},
       "aggData": [],
       "aggError": "",
       "aggOverflow": false,
       "aggSchema": [],
       "aggSeriesLimitReached": false,
       "aggType": "",
       "arguments": {},
       "columnCustomDisplayInfos": {},
       "data": [
        [
         "DOWNTOWN COMMERCIAL",
         91534
        ],
        [
         "CAPITOL HILL",
         72277
        ],
        [
         "NORTHGATE",
         65864
        ]
       ],
       "datasetInfos": [],
       "dbfsResultPath": null,
       "isJsonSchema": true,
       "metadata": {},
       "overflow": false,
       "plotOptions": {
        "customPlotOptions": {},
        "displayType": "table",
        "pivotAggregation": null,
        "pivotColumns": null,
        "xColumns": null,
        "yColumns": null
       },
       "removedWidgets": [],
       "schema": [
        {
         "metadata": "{}",
         "name": "mcpp",
         "type": "\"string\""
        },
        {
         "metadata": "{}",
         "name": "count",
         "type": "\"long\""
        }
       ],
       "type": "table"
      }
     },
     "output_type": "display_data"
    },
    {
     "output_type": "display_data",
     "data": {
      "text/plain": [
       "Databricks visualization. Run in Databricks to view."
      ]
     },
     "metadata": {
      "application/vnd.databricks.v1.subcommand+json": {
       "baseErrorDetails": null,
       "bindings": {},
       "collapsed": false,
       "command": "%python\n__backend_agg_display_orig = display\n__backend_agg_dfs = []\ndef __backend_agg_display_new(df):\n    __backend_agg_df_modules = [\"pandas.core.frame\", \"databricks.koalas.frame\", \"pyspark.sql.dataframe\", \"pyspark.pandas.frame\", \"pyspark.sql.connect.dataframe\"]\n    if (type(df).__module__ in __backend_agg_df_modules and type(df).__name__ == 'DataFrame') or isinstance(df, list):\n        __backend_agg_dfs.append(df)\n\ndisplay = __backend_agg_display_new\n\ndef __backend_agg_user_code_fn():\n    import base64\n    exec(base64.standard_b64decode(\"c2VhX2Rpc3RyaWN0X3JhbmsgPSBzZWFfY3JpbWVfZGYuZ3JvdXBieSgibWNwcCIpLmNvdW50KCkub3JkZXJCeSgiY291bnQiLCBhc2NlbmRpbmcgPSBGYWxzZSkKZGlzcGxheShzZWFfZGlzdHJpY3RfcmFuayk=\").decode())\n\ntry:\n    # run user code\n    __backend_agg_user_code_fn()\n\n    #reset display function\n    display = __backend_agg_display_orig\n\n    if len(__backend_agg_dfs) > 0:\n        # create a temp view\n        if type(__backend_agg_dfs[0]).__module__ == \"databricks.koalas.frame\":\n            # koalas dataframe\n            __backend_agg_dfs[0].to_spark().createOrReplaceTempView(\"DatabricksViewb23a6d3\")\n        elif type(__backend_agg_dfs[0]).__module__ == \"pandas.core.frame\" or isinstance(__backend_agg_dfs[0], list):\n            # pandas dataframe\n            spark.createDataFrame(__backend_agg_dfs[0]).createOrReplaceTempView(\"DatabricksViewb23a6d3\")\n        else:\n            __backend_agg_dfs[0].createOrReplaceTempView(\"DatabricksViewb23a6d3\")\n        #run backend agg\n        display(spark.sql(\"\"\"WITH q AS (select * from DatabricksViewb23a6d3) SELECT `mcpp`,SUM(`count`) `column_2d6a78c930` FROM q GROUP BY `mcpp`\"\"\"))\n    else:\n        displayHTML(\"dataframe no longer exists. If you're using dataframe.display(), use display(dataframe) instead.\")\n\n\nfinally:\n    spark.sql(\"drop view if exists DatabricksViewb23a6d3\")\n    display = __backend_agg_display_orig\n    del __backend_agg_display_new\n    del __backend_agg_display_orig\n    del __backend_agg_dfs\n    del __backend_agg_user_code_fn\n\n",
       "commandTitle": "Visualization 1",
       "commandType": "auto",
       "commandVersion": 0,
       "commentThread": [],
       "commentsVisible": false,
       "contentSha256Hex": null,
       "customPlotOptions": {
        "redashChart": [
         {
          "key": "type",
          "value": "CHART"
         },
         {
          "key": "options",
          "value": {
           "alignYAxesAtZero": true,
           "coefficient": 1,
           "columnConfigurationMap": {
            "x": {
             "column": "mcpp",
             "id": "column_2d6a78c927"
            },
            "y": [
             {
              "column": "count",
              "id": "column_2d6a78c930",
              "transform": "SUM"
             }
            ]
           },
           "dateTimeFormat": "DD/MM/YYYY HH:mm",
           "direction": {
            "type": "counterclockwise"
           },
           "error_y": {
            "type": "data",
            "visible": true
           },
           "globalSeriesType": "column",
           "isAggregationOn": true,
           "legend": {
            "traceorder": "normal"
           },
           "missingValuesAsZero": true,
           "numberFormat": "0,0.[00000]",
           "percentFormat": "0[.]00%",
           "series": {
            "error_y": {
             "type": "data",
             "visible": true
            },
            "stacking": null
           },
           "seriesOptions": {
            "column_2d6a78c930": {
             "type": "column",
             "yAxis": 0
            }
           },
           "showDataLabels": false,
           "sizemode": "diameter",
           "sortX": false,
           "sortY": true,
           "swappedAxes": true,
           "textFormat": "",
           "useAggregationsUi": true,
           "valuesOptions": {},
           "version": 2,
           "xAxis": {
            "labels": {
             "enabled": true
            },
            "type": "-"
           },
           "yAxis": [
            {
             "type": "-"
            },
            {
             "opposite": true,
             "type": "-"
            }
           ]
          }
         }
        ]
       },
       "datasetPreviewNameToCmdIdMap": {},
       "diffDeletes": [],
       "diffInserts": [],
       "displayType": "redashChart",
       "error": null,
       "errorDetails": null,
       "errorSummary": null,
       "errorTraceType": null,
       "finishTime": 0,
       "globalVars": {},
       "guid": "",
       "height": "auto",
       "hideCommandCode": false,
       "hideCommandResult": false,
       "iPythonMetadata": null,
       "inputWidgets": {},
       "isLockedInExamMode": false,
       "latestUser": "a user",
       "latestUserId": null,
       "listResultMetadata": null,
       "metadata": {},
       "nuid": "0fb30ded-8a66-4387-a3e5-5dfd1c93222e",
       "origId": 0,
       "parentHierarchy": [],
       "pivotAggregation": null,
       "pivotColumns": null,
       "position": 15.0,
       "resultDbfsErrorMessage": null,
       "resultDbfsStatus": "INLINED_IN_TREE",
       "results": null,
       "showCommandTitle": false,
       "startTime": 0,
       "state": "input",
       "streamStates": {},
       "subcommandOptions": {
        "queryPlan": {
         "groups": [
          {
           "column": "mcpp",
           "type": "column"
          }
         ],
         "selects": [
          {
           "column": "mcpp",
           "type": "column"
          },
          {
           "alias": "column_2d6a78c930",
           "args": [
            {
             "column": "count",
             "type": "column"
            }
           ],
           "function": "SUM",
           "type": "function"
          }
         ]
        }
       },
       "submitTime": 0,
       "subtype": "tableResultSubCmd.visualization",
       "tableResultIndex": 0,
       "tableResultSettingsMap": {},
       "useConsistentColors": false,
       "version": "CommandV1",
       "width": "auto",
       "workflows": [],
       "xColumns": null,
       "yColumns": null
      }
     },
     "output_type": "display_data"
    }
   ],
   "source": [
    "from pyspark.sql.functions import desc\n",
    "top_3_districts = sea_crime_df.groupBy(\"mcpp\") \\\n",
    "     .count() \\\n",
    "     .orderBy(desc(\"count\")) \\\n",
    "     .limit(3)\n",
    "display(top_3_districts)"
   ]
  },
  {
   "cell_type": "code",
   "execution_count": 0,
   "metadata": {
    "application/vnd.databricks.v1+cell": {
     "cellMetadata": {
      "byteLimit": 2048000,
      "rowLimit": 10000
     },
     "inputWidgets": {},
     "nuid": "1ebe9fd9-e80f-4379-ace5-6ab797c07244",
     "showTitle": false,
     "tableResultSettingsMap": {},
     "title": ""
    }
   },
   "outputs": [
    {
     "output_type": "display_data",
     "data": {
      "text/html": [
       "<style scoped>\n",
       "  .table-result-container {\n",
       "    max-height: 300px;\n",
       "    overflow: auto;\n",
       "  }\n",
       "  table, th, td {\n",
       "    border: 1px solid black;\n",
       "    border-collapse: collapse;\n",
       "  }\n",
       "  th, td {\n",
       "    padding: 5px;\n",
       "  }\n",
       "  th {\n",
       "    text-align: left;\n",
       "  }\n",
       "</style><div class='table-result-container'><table class='table-result'><thead style='background-color: white'><tr><th>crime_against_category</th><th>time</th><th>count</th></tr></thead><tbody><tr><td>NOT_A_CRIME</td><td>2</td><td>1</td></tr><tr><td>NOT_A_CRIME</td><td>10</td><td>1</td></tr><tr><td>NOT_A_CRIME</td><td>11</td><td>1</td></tr><tr><td>NOT_A_CRIME</td><td>12</td><td>1</td></tr><tr><td>NOT_A_CRIME</td><td>19</td><td>1</td></tr><tr><td>PERSON</td><td>0</td><td>1828</td></tr><tr><td>PERSON</td><td>1</td><td>1869</td></tr><tr><td>PERSON</td><td>2</td><td>1913</td></tr><tr><td>PERSON</td><td>3</td><td>1177</td></tr><tr><td>PERSON</td><td>4</td><td>770</td></tr><tr><td>PERSON</td><td>5</td><td>629</td></tr><tr><td>PERSON</td><td>6</td><td>620</td></tr><tr><td>PERSON</td><td>7</td><td>746</td></tr><tr><td>PERSON</td><td>8</td><td>956</td></tr><tr><td>PERSON</td><td>9</td><td>1127</td></tr><tr><td>PERSON</td><td>10</td><td>1355</td></tr><tr><td>PERSON</td><td>11</td><td>1360</td></tr><tr><td>PERSON</td><td>12</td><td>1667</td></tr><tr><td>PERSON</td><td>13</td><td>1891</td></tr><tr><td>PERSON</td><td>14</td><td>1789</td></tr><tr><td>PERSON</td><td>15</td><td>1942</td></tr><tr><td>PERSON</td><td>16</td><td>1997</td></tr><tr><td>PERSON</td><td>17</td><td>2080</td></tr><tr><td>PERSON</td><td>18</td><td>1998</td></tr><tr><td>PERSON</td><td>19</td><td>1872</td></tr><tr><td>PERSON</td><td>20</td><td>1824</td></tr><tr><td>PERSON</td><td>21</td><td>1997</td></tr><tr><td>PERSON</td><td>22</td><td>1903</td></tr><tr><td>PERSON</td><td>23</td><td>1867</td></tr><tr><td>PROPERTY</td><td>0</td><td>3220</td></tr><tr><td>PROPERTY</td><td>1</td><td>2963</td></tr><tr><td>PROPERTY</td><td>2</td><td>2601</td></tr><tr><td>PROPERTY</td><td>3</td><td>2009</td></tr><tr><td>PROPERTY</td><td>4</td><td>1715</td></tr><tr><td>PROPERTY</td><td>5</td><td>1948</td></tr><tr><td>PROPERTY</td><td>6</td><td>4253</td></tr><tr><td>PROPERTY</td><td>7</td><td>5793</td></tr><tr><td>PROPERTY</td><td>8</td><td>7042</td></tr><tr><td>PROPERTY</td><td>9</td><td>8507</td></tr><tr><td>PROPERTY</td><td>10</td><td>9581</td></tr><tr><td>PROPERTY</td><td>11</td><td>9383</td></tr><tr><td>PROPERTY</td><td>12</td><td>10939</td></tr><tr><td>PROPERTY</td><td>13</td><td>11591</td></tr><tr><td>PROPERTY</td><td>14</td><td>10318</td></tr><tr><td>PROPERTY</td><td>15</td><td>10517</td></tr><tr><td>PROPERTY</td><td>16</td><td>9734</td></tr><tr><td>PROPERTY</td><td>17</td><td>9677</td></tr><tr><td>PROPERTY</td><td>18</td><td>8580</td></tr><tr><td>PROPERTY</td><td>19</td><td>7285</td></tr><tr><td>PROPERTY</td><td>20</td><td>7169</td></tr><tr><td>PROPERTY</td><td>21</td><td>6726</td></tr><tr><td>PROPERTY</td><td>22</td><td>5225</td></tr><tr><td>PROPERTY</td><td>23</td><td>4025</td></tr><tr><td>SOCIETY</td><td>0</td><td>1493</td></tr><tr><td>SOCIETY</td><td>1</td><td>1476</td></tr><tr><td>SOCIETY</td><td>2</td><td>1399</td></tr><tr><td>SOCIETY</td><td>3</td><td>890</td></tr><tr><td>SOCIETY</td><td>4</td><td>696</td></tr><tr><td>SOCIETY</td><td>5</td><td>546</td></tr><tr><td>SOCIETY</td><td>6</td><td>591</td></tr><tr><td>SOCIETY</td><td>7</td><td>697</td></tr><tr><td>SOCIETY</td><td>8</td><td>746</td></tr><tr><td>SOCIETY</td><td>9</td><td>858</td></tr><tr><td>SOCIETY</td><td>10</td><td>997</td></tr><tr><td>SOCIETY</td><td>11</td><td>1184</td></tr><tr><td>SOCIETY</td><td>12</td><td>1500</td></tr><tr><td>SOCIETY</td><td>13</td><td>1657</td></tr><tr><td>SOCIETY</td><td>14</td><td>1679</td></tr><tr><td>SOCIETY</td><td>15</td><td>1775</td></tr><tr><td>SOCIETY</td><td>16</td><td>1713</td></tr><tr><td>SOCIETY</td><td>17</td><td>1532</td></tr><tr><td>SOCIETY</td><td>18</td><td>1384</td></tr><tr><td>SOCIETY</td><td>19</td><td>1409</td></tr><tr><td>SOCIETY</td><td>20</td><td>1724</td></tr><tr><td>SOCIETY</td><td>21</td><td>2123</td></tr><tr><td>SOCIETY</td><td>22</td><td>2029</td></tr><tr><td>SOCIETY</td><td>23</td><td>1594</td></tr></tbody></table></div>"
      ]
     },
     "metadata": {
      "application/vnd.databricks.v1+output": {
       "addedWidgets": {},
       "aggData": [],
       "aggError": "",
       "aggOverflow": false,
       "aggSchema": [],
       "aggSeriesLimitReached": false,
       "aggType": "",
       "arguments": {},
       "columnCustomDisplayInfos": {},
       "data": [
        [
         "NOT_A_CRIME",
         2,
         1
        ],
        [
         "NOT_A_CRIME",
         10,
         1
        ],
        [
         "NOT_A_CRIME",
         11,
         1
        ],
        [
         "NOT_A_CRIME",
         12,
         1
        ],
        [
         "NOT_A_CRIME",
         19,
         1
        ],
        [
         "PERSON",
         0,
         1828
        ],
        [
         "PERSON",
         1,
         1869
        ],
        [
         "PERSON",
         2,
         1913
        ],
        [
         "PERSON",
         3,
         1177
        ],
        [
         "PERSON",
         4,
         770
        ],
        [
         "PERSON",
         5,
         629
        ],
        [
         "PERSON",
         6,
         620
        ],
        [
         "PERSON",
         7,
         746
        ],
        [
         "PERSON",
         8,
         956
        ],
        [
         "PERSON",
         9,
         1127
        ],
        [
         "PERSON",
         10,
         1355
        ],
        [
         "PERSON",
         11,
         1360
        ],
        [
         "PERSON",
         12,
         1667
        ],
        [
         "PERSON",
         13,
         1891
        ],
        [
         "PERSON",
         14,
         1789
        ],
        [
         "PERSON",
         15,
         1942
        ],
        [
         "PERSON",
         16,
         1997
        ],
        [
         "PERSON",
         17,
         2080
        ],
        [
         "PERSON",
         18,
         1998
        ],
        [
         "PERSON",
         19,
         1872
        ],
        [
         "PERSON",
         20,
         1824
        ],
        [
         "PERSON",
         21,
         1997
        ],
        [
         "PERSON",
         22,
         1903
        ],
        [
         "PERSON",
         23,
         1867
        ],
        [
         "PROPERTY",
         0,
         3220
        ],
        [
         "PROPERTY",
         1,
         2963
        ],
        [
         "PROPERTY",
         2,
         2601
        ],
        [
         "PROPERTY",
         3,
         2009
        ],
        [
         "PROPERTY",
         4,
         1715
        ],
        [
         "PROPERTY",
         5,
         1948
        ],
        [
         "PROPERTY",
         6,
         4253
        ],
        [
         "PROPERTY",
         7,
         5793
        ],
        [
         "PROPERTY",
         8,
         7042
        ],
        [
         "PROPERTY",
         9,
         8507
        ],
        [
         "PROPERTY",
         10,
         9581
        ],
        [
         "PROPERTY",
         11,
         9383
        ],
        [
         "PROPERTY",
         12,
         10939
        ],
        [
         "PROPERTY",
         13,
         11591
        ],
        [
         "PROPERTY",
         14,
         10318
        ],
        [
         "PROPERTY",
         15,
         10517
        ],
        [
         "PROPERTY",
         16,
         9734
        ],
        [
         "PROPERTY",
         17,
         9677
        ],
        [
         "PROPERTY",
         18,
         8580
        ],
        [
         "PROPERTY",
         19,
         7285
        ],
        [
         "PROPERTY",
         20,
         7169
        ],
        [
         "PROPERTY",
         21,
         6726
        ],
        [
         "PROPERTY",
         22,
         5225
        ],
        [
         "PROPERTY",
         23,
         4025
        ],
        [
         "SOCIETY",
         0,
         1493
        ],
        [
         "SOCIETY",
         1,
         1476
        ],
        [
         "SOCIETY",
         2,
         1399
        ],
        [
         "SOCIETY",
         3,
         890
        ],
        [
         "SOCIETY",
         4,
         696
        ],
        [
         "SOCIETY",
         5,
         546
        ],
        [
         "SOCIETY",
         6,
         591
        ],
        [
         "SOCIETY",
         7,
         697
        ],
        [
         "SOCIETY",
         8,
         746
        ],
        [
         "SOCIETY",
         9,
         858
        ],
        [
         "SOCIETY",
         10,
         997
        ],
        [
         "SOCIETY",
         11,
         1184
        ],
        [
         "SOCIETY",
         12,
         1500
        ],
        [
         "SOCIETY",
         13,
         1657
        ],
        [
         "SOCIETY",
         14,
         1679
        ],
        [
         "SOCIETY",
         15,
         1775
        ],
        [
         "SOCIETY",
         16,
         1713
        ],
        [
         "SOCIETY",
         17,
         1532
        ],
        [
         "SOCIETY",
         18,
         1384
        ],
        [
         "SOCIETY",
         19,
         1409
        ],
        [
         "SOCIETY",
         20,
         1724
        ],
        [
         "SOCIETY",
         21,
         2123
        ],
        [
         "SOCIETY",
         22,
         2029
        ],
        [
         "SOCIETY",
         23,
         1594
        ]
       ],
       "datasetInfos": [],
       "dbfsResultPath": null,
       "isJsonSchema": true,
       "metadata": {},
       "overflow": false,
       "plotOptions": {
        "customPlotOptions": {},
        "displayType": "table",
        "pivotAggregation": null,
        "pivotColumns": null,
        "xColumns": null,
        "yColumns": null
       },
       "removedWidgets": [],
       "schema": [
        {
         "metadata": "{}",
         "name": "crime_against_category",
         "type": "\"string\""
        },
        {
         "metadata": "{}",
         "name": "time",
         "type": "\"integer\""
        },
        {
         "metadata": "{}",
         "name": "count",
         "type": "\"long\""
        }
       ],
       "type": "table"
      }
     },
     "output_type": "display_data"
    },
    {
     "output_type": "display_data",
     "data": {
      "text/plain": [
       "Databricks visualization. Run in Databricks to view."
      ]
     },
     "metadata": {
      "application/vnd.databricks.v1.subcommand+json": {
       "baseErrorDetails": null,
       "bindings": {},
       "collapsed": false,
       "command": "%python\n__backend_agg_display_orig = display\n__backend_agg_dfs = []\ndef __backend_agg_display_new(df):\n    __backend_agg_df_modules = [\"pandas.core.frame\", \"databricks.koalas.frame\", \"pyspark.sql.dataframe\", \"pyspark.pandas.frame\", \"pyspark.sql.connect.dataframe\"]\n    if (type(df).__module__ in __backend_agg_df_modules and type(df).__name__ == 'DataFrame') or isinstance(df, list):\n        __backend_agg_dfs.append(df)\n\ndisplay = __backend_agg_display_new\n\ndef __backend_agg_user_code_fn():\n    import base64\n    exec(base64.standard_b64decode(\"Y3JpbWVfZXZlbnRPZjNkaXN0ID0gc2VhX2NyaW1lX2RmLmZpbHRlcihzZWFfY3JpbWVfZGYubWNwcC5pc2luKCdET1dOVE9XTiBDT01NRVJDSUFMJywgJ0NBUElUT0wgSElMTCcsICdOT1JUSEdBVEUnKSkuZ3JvdXBieSgnY3JpbWVfYWdhaW5zdF9jYXRlZ29yeScsICd0aW1lJykuY291bnQoKS5vcmRlckJ5KCdjcmltZV9hZ2FpbnN0X2NhdGVnb3J5JywgJ3RpbWUnKQpkaXNwbGF5KGNyaW1lX2V2ZW50T2YzZGlzdCk=\").decode())\n\ntry:\n    # run user code\n    __backend_agg_user_code_fn()\n\n    #reset display function\n    display = __backend_agg_display_orig\n\n    if len(__backend_agg_dfs) > 0:\n        # create a temp view\n        if type(__backend_agg_dfs[0]).__module__ == \"databricks.koalas.frame\":\n            # koalas dataframe\n            __backend_agg_dfs[0].to_spark().createOrReplaceTempView(\"DatabricksViewbf890ef\")\n        elif type(__backend_agg_dfs[0]).__module__ == \"pandas.core.frame\" or isinstance(__backend_agg_dfs[0], list):\n            # pandas dataframe\n            spark.createDataFrame(__backend_agg_dfs[0]).createOrReplaceTempView(\"DatabricksViewbf890ef\")\n        else:\n            __backend_agg_dfs[0].createOrReplaceTempView(\"DatabricksViewbf890ef\")\n        #run backend agg\n        display(spark.sql(\"\"\"WITH q AS (select * from DatabricksViewbf890ef) SELECT `time`,SUM(`count`) `column_2d6a78c943`,`crime_against_category` FROM q GROUP BY `crime_against_category`,`time`\"\"\"))\n    else:\n        displayHTML(\"dataframe no longer exists. If you're using dataframe.display(), use display(dataframe) instead.\")\n\n\nfinally:\n    spark.sql(\"drop view if exists DatabricksViewbf890ef\")\n    display = __backend_agg_display_orig\n    del __backend_agg_display_new\n    del __backend_agg_display_orig\n    del __backend_agg_dfs\n    del __backend_agg_user_code_fn\n\n",
       "commandTitle": "Visualization 1",
       "commandType": "auto",
       "commandVersion": 0,
       "commentThread": [],
       "commentsVisible": false,
       "contentSha256Hex": null,
       "customPlotOptions": {
        "redashChart": [
         {
          "key": "type",
          "value": "CHART"
         },
         {
          "key": "options",
          "value": {
           "alignYAxesAtZero": true,
           "coefficient": 1,
           "columnConfigurationMap": {
            "series": {
             "column": "crime_against_category",
             "id": "column_2d6a78c945"
            },
            "x": {
             "column": "time",
             "id": "column_2d6a78c935"
            },
            "y": [
             {
              "column": "count",
              "id": "column_2d6a78c943",
              "transform": "SUM"
             }
            ]
           },
           "dateTimeFormat": "DD/MM/YYYY HH:mm",
           "direction": {
            "type": "counterclockwise"
           },
           "error_y": {
            "type": "data",
            "visible": true
           },
           "globalSeriesType": "column",
           "isAggregationOn": true,
           "legend": {
            "traceorder": "normal"
           },
           "missingValuesAsZero": true,
           "numBins": 10,
           "numberFormat": "0,0.[00000]",
           "percentFormat": "0[.]00%",
           "series": {
            "error_y": {
             "type": "data",
             "visible": true
            },
            "percentValues": false,
            "stacking": null
           },
           "seriesOptions": {
            "column_2d6a78c936": {
             "name": "count",
             "type": "column",
             "yAxis": 0
            },
            "column_2d6a78c939": {
             "type": "column",
             "yAxis": 0
            },
            "column_2d6a78c943": {
             "type": "column",
             "yAxis": 0
            }
           },
           "showDataLabels": false,
           "sizemode": "diameter",
           "sortX": true,
           "sortY": true,
           "swappedAxes": false,
           "textFormat": "",
           "useAggregationsUi": true,
           "valuesOptions": {},
           "version": 2,
           "xAxis": {
            "labels": {
             "enabled": true
            },
            "type": "-"
           },
           "yAxis": [
            {
             "type": "-"
            },
            {
             "opposite": true,
             "type": "-"
            }
           ]
          }
         }
        ]
       },
       "datasetPreviewNameToCmdIdMap": {},
       "diffDeletes": [],
       "diffInserts": [],
       "displayType": "redashChart",
       "error": null,
       "errorDetails": null,
       "errorSummary": null,
       "errorTraceType": null,
       "finishTime": 0,
       "globalVars": {},
       "guid": "",
       "height": "auto",
       "hideCommandCode": false,
       "hideCommandResult": false,
       "iPythonMetadata": null,
       "inputWidgets": {},
       "isLockedInExamMode": false,
       "latestUser": "a user",
       "latestUserId": null,
       "listResultMetadata": null,
       "metadata": {},
       "nuid": "7a15dc84-8fb5-4e76-877c-2b6d1a4ccfd6",
       "origId": 0,
       "parentHierarchy": [],
       "pivotAggregation": null,
       "pivotColumns": null,
       "position": 16.0,
       "resultDbfsErrorMessage": null,
       "resultDbfsStatus": "INLINED_IN_TREE",
       "results": null,
       "showCommandTitle": false,
       "startTime": 0,
       "state": "input",
       "streamStates": {},
       "subcommandOptions": {
        "queryPlan": {
         "groups": [
          {
           "column": "time",
           "type": "column"
          },
          {
           "column": "crime_against_category",
           "type": "column"
          }
         ],
         "selects": [
          {
           "column": "time",
           "type": "column"
          },
          {
           "alias": "column_2d6a78c943",
           "args": [
            {
             "column": "count",
             "type": "column"
            }
           ],
           "function": "SUM",
           "type": "function"
          },
          {
           "column": "crime_against_category",
           "type": "column"
          }
         ]
        }
       },
       "submitTime": 0,
       "subtype": "tableResultSubCmd.visualization",
       "tableResultIndex": 0,
       "tableResultSettingsMap": {},
       "useConsistentColors": false,
       "version": "CommandV1",
       "width": "auto",
       "workflows": [],
       "xColumns": null,
       "yColumns": null
      }
     },
     "output_type": "display_data"
    }
   ],
   "source": [
    "crime_eventOf3dist = sea_crime_df.filter(sea_crime_df.mcpp.isin('DOWNTOWN COMMERCIAL', 'CAPITOL HILL', 'NORTHGATE')).groupby('crime_against_category', 'time').count().orderBy('crime_against_category', 'time')\n",
    "display(crime_eventOf3dist)"
   ]
  },
  {
   "cell_type": "markdown",
   "metadata": {
    "application/vnd.databricks.v1+cell": {
     "cellMetadata": {},
     "inputWidgets": {},
     "nuid": "04a02074-b90d-49d6-80b6-6d2ca8d685e1",
     "showTitle": false,
     "tableResultSettingsMap": {},
     "title": ""
    }
   },
   "source": [
    "\n",
    "#### 1. Crime Distribution by District\n",
    "Top 3 High-Crime Districts:\n",
    "Downtown Commercial: 91,534 crimes\n",
    "Capitol Hill: 72,277 crimes\n",
    "Northgate: 65,864 crimes\n",
    "Advice:\n",
    "Hotspot Policing: Focus on these high-crime districts with increased patrols, especially during peak crime hours.\n",
    "Community Engagement: Work with local businesses and residents in these areas to develop community-based crime prevention strategies.\n",
    "Infrastructure Improvements: Consider improving street lighting, installing surveillance cameras, and increasing police presence in these districts.\n",
    "#### 2. Crime Distribution by Time of Day\n",
    "Peak Crime Hours:\n",
    "Property Crimes: Peak between 10 AM to 4 PM, with the highest number of crimes occurring around 1 PM.\n",
    "Crimes Against Persons: Peak in the late afternoon and evening, with the highest number of crimes occurring between 5 PM to 9 PM.\n",
    "Society-Related Crimes: Peak in the evening and late night, with the highest number of crimes occurring between 9 PM to 11 PM.\n",
    "Advice:\n",
    "Shift Adjustments: Adjust police shifts to ensure higher coverage during peak crime hours. For example, increase patrols in the late afternoon and evening when crimes against persons are more frequent.\n",
    "Targeted Patrols: Focus on property crime prevention during the daytime, especially in commercial areas, and increase patrols in residential areas during the evening and night.\n",
    "Public Awareness: Educate the public about safety measures during high-crime hours, such as avoiding walking alone at night and securing property during the day."
   ]
  }
 ],
 "metadata": {
  "application/vnd.databricks.v1+notebook": {
   "computePreferences": null,
   "dashboards": [],
   "environmentMetadata": {
    "base_environment": "",
    "client": "1"
   },
   "language": "python",
   "notebookMetadata": {
    "pythonIndentUnit": 4
   },
   "notebookName": "Seattle Crime Analysis",
   "widgets": {}
  }
 },
 "nbformat": 4,
 "nbformat_minor": 0
}
